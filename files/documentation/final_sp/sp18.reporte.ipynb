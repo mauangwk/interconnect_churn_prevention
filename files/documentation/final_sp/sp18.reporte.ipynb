{
 "cells": [
  {
   "cell_type": "markdown",
   "metadata": {},
   "source": [
    "# Hola &#x1F600;,\n",
    "\n",
    "Soy **Hesus Garcia** – **\"Soy el único Hesus que conoces (y probablemente conocerás) 🌟\"** – Sí, como \"Jesús\", pero con una H que me hace único. Puede sonar raro, pero créeme, ¡no lo olvidarás! Como tu revisor en Triple-Ten, estoy aquí para guiarte y ayudarte a mejorar tu código. Si algo necesita un ajuste, no hay de qué preocuparse; ¡aquí estoy para hacer que tu trabajo brille con todo su potencial! ✨\n",
    "\n",
    "Cada vez que encuentre un detalle importante en tu código, te lo señalaré para que puedas corregirlo y así te prepares para un ambiente de trabajo real, donde el líder de tu equipo actuaría de manera similar. Si en algún momento no logras solucionar el problema, te daré más detalles para ayudarte en nuestra próxima oportunidad de revisión.\n",
    "\n",
    "Es importante que cuando encuentres un comentario, **no los muevas, no los modifiques, ni los borres**.\n",
    "\n",
    "---\n",
    "\n",
    "### Formato de Comentarios\n",
    "\n",
    "Revisaré cuidadosamente cada implementación en tu notebook para asegurar que cumpla con los requisitos y te daré comentarios de acuerdo al siguiente formato:\n",
    "\n",
    "\n",
    "<div class=\"alert alert-block alert-success\">\n",
    "<b>Comentario del revisor</b> <a class=\"tocSkip\"></a><br>\n",
    "    \n",
    "<b>Éxito</b> - ¡Excelente trabajo! Esta parte está bien implementada y contribuye significativamente al análisis de datos o al proyecto. Continúa aplicando estas buenas prácticas en futuras secciones.\n",
    "    \n",
    "</div>\n",
    "\n",
    "<div class=\"alert alert-block alert-warning\">\n",
    "<b>Comentario del revisor</b> <a class=\"tocSkip\"></a><br>\n",
    "    \n",
    "<b>Atención</b> ⚠️ - Este código está correcto, pero se puede optimizar. Considera implementar mejoras para que sea más eficiente y fácil de leer. Esto fortalecerá la calidad de tu proyecto.\n",
    "    \n",
    "</div>\n",
    "\n",
    "<div class=\"alert alert-block alert-danger\">\n",
    "<b>Comentario del revisor</b> <a class=\"tocSkip\"></a><br>\n",
    "    \n",
    "<b>A resolver</b> ❗ - Aquí hay un problema o error en el código que es necesario corregir para aprobar esta sección. Por favor, revisa y corrige este punto, ya que es fundamental para la validez del análisis y la precisión de los resultados.\n",
    "    \n",
    "</div>\n",
    "\n",
    "---\n",
    "\n",
    "Al final de cada revisión, recibirás un **Comentario General del Revisor** que incluirá:\n",
    "\n",
    "- **Aspectos positivos:** Un resumen de los puntos fuertes de tu proyecto.\n",
    "- **Áreas de mejora:** Sugerencias sobre aspectos donde puedes mejorar.\n",
    "- **Temas adicionales para investigar:** Ideas de temas opcionales que puedes explorar por tu cuenta para desarrollar aún más tus habilidades.\n",
    "\n",
    "Estos temas adicionales no son obligatorios en esta etapa, pero pueden serte útiles para profundizar en el futuro.\n",
    "\n",
    "---\n",
    "\n",
    "\n",
    "Esta estructura en viñetas facilita la lectura y comprensión de cada parte del comentario final.\n",
    "\n",
    "También puedes responderme de la siguiente manera si tienes alguna duda o quieres aclarar algo específico:\n",
    "\n",
    "\n",
    "<div class=\"alert alert-block alert-info\">\n",
    "<b>Respuesta del estudiante</b> <a class=\"tocSkip\"></a>\n",
    "    \n",
    "Aquí puedes escribir tu respuesta o pregunta sobre el comentario.\n",
    "    \n",
    "</div>\n",
    "\n",
    "\n",
    "**¡Empecemos!** &#x1F680;\n",
    "\n",
    "\n",
    "\n",
    "\n",
    "\n",
    "\n",
    "\n",
    "\n",
    "\n",
    "\n",
    "\n",
    "\n"
   ]
  },
  {
   "cell_type": "markdown",
   "metadata": {},
   "source": [
    "# Informe de proyecto final\n",
    "## (Interconnect y modelo para prevencion de churn)"
   ]
  },
  {
   "cell_type": "markdown",
   "metadata": {},
   "source": [
    "### ¿Qué pasos del plan se realizaron y qué pasos se omitieron (explica por qué)?"
   ]
  },
  {
   "cell_type": "markdown",
   "metadata": {},
   "source": [
    "- Se ejecutaron todos los pasos estipulados en el plan\n",
    "- En cambio, se agregaron algunos apartados a dicho plan para mejorar la organizacion del workbook así como puntos en donde el analisis nos forzó a realizar medidas adicionales como la seccion de funciones/el manejo del checkpoint/manejo de seleccion de caracteristicas para mejorar el desempeño del modelo"
   ]
  },
  {
   "cell_type": "markdown",
   "metadata": {},
   "source": [
    "### ¿Qué dificultades encontraste y cómo lograste resolverlas?"
   ]
  },
  {
   "cell_type": "markdown",
   "metadata": {},
   "source": [
    "- Se implementaron los modelos basicos para un problema de clasificacion, sin embargo, no se conseguia el mejor rendimiento del modelo de acuerdo a la solicitud de negocio."
   ]
  },
  {
   "cell_type": "markdown",
   "metadata": {},
   "source": [
    "### ¿Cuáles fueron algunos de los pasos clave para resolver la tarea?"
   ]
  },
  {
   "cell_type": "markdown",
   "metadata": {},
   "source": [
    "- Se definieron algoritmos adicionales para generar el modelo.\n",
    "- Se estuvo trabajando en la seleccion de caracteristicas, proporciones en la division de los datos y el manejo de hiperparametros.\n",
    "- Manejo y/o revision del balanceo de la clase objetivo."
   ]
  },
  {
   "cell_type": "markdown",
   "metadata": {},
   "source": [
    "### ¿Cuál es tu modelo final y qué nivel de calidad tiene?"
   ]
  },
  {
   "cell_type": "markdown",
   "metadata": {},
   "source": [
    "- ROC AUC Train score:   0.8722915954241087\n",
    "- ROC AUC Test score:   0.8404646900378719"
   ]
  },
  {
   "cell_type": "markdown",
   "metadata": {},
   "source": [
    "<div class=\"alert alert-block alert-success\">\n",
    "<b>Comentario del revisor</b> <a class=\"tocSkip\"></a><br>\n",
    "\n",
    "<b>Aspectos positivos:</b><br>\n",
    "Has realizado un trabajo excelente en este proyecto. Se nota el cuidado en la estructura del análisis, la toma de decisiones con base en la evidencia, y la implementación de técnicas clave como la selección de características, ajuste de hiperparámetros y control del desbalanceo de clases. El modelo final muestra un desempeño robusto y consistente, con una métrica ROC AUC bien equilibrada entre entrenamiento y prueba, lo cual indica una buena generalización. Además, incorporaste secciones extra para mejorar la organización del notebook y el flujo de trabajo —una señal clara de compromiso y proactividad. ¡Felicitaciones por eso!\n",
    "\n",
    "<b>Áreas de mejora:</b><br>\n",
    "No hay observaciones técnicas que impidan aprobar tu trabajo. \n",
    "\n",
    "<b>Temas adicionales para investigar:</b><br>\n",
    "Ahora que dominas proyectos como este, te animamos a explorar nuevos horizontes que están marcando tendencia en la industria:\n",
    "\n",
    "- **LLMs (Modelos de Lenguaje de gran escala):** Investiga cómo se usan modelos como GPT para automatización de tareas, generación de insights o incluso para crear asistentes internos.\n",
    "- **APIs de LLMs:** Aprende a consumir modelos mediante APIs (por ejemplo, OpenAI, Cohere, Anthropic, Hugging Face). Existen muchas guías y ejemplos para principiantes que te ayudarán a integrarlos en tus propios proyectos.\n",
    "- **Despliegue de modelos:** Explora herramientas como Flask, FastAPI, Streamlit o Gradio para crear aplicaciones sencillas que expongan tus modelos en forma de servicio o interfaz web. Aunque al principio parezca complejo, hay muchos recursos “para dummies” que te guían paso a paso, ¡y es muy motivador ver tus modelos funcionando en producción!\n",
    "\n",
    "Y por último, no olvides seguir practicando cómo comunicar y presentar tus hallazgos. La habilidad de traducir un análisis técnico a lenguaje claro para equipos no técnicos es una de las más valiosas en la industria.\n",
    "\n",
    "¡Sigue así, vas por un camino excelente!\n",
    "</div>\n"
   ]
  },
  {
   "cell_type": "code",
   "execution_count": null,
   "metadata": {},
   "outputs": [],
   "source": []
  }
 ],
 "metadata": {
  "kernelspec": {
   "display_name": "Python 3 (ipykernel)",
   "language": "python",
   "name": "python3"
  },
  "language_info": {
   "codemirror_mode": {
    "name": "ipython",
    "version": 3
   },
   "file_extension": ".py",
   "mimetype": "text/x-python",
   "name": "python",
   "nbconvert_exporter": "python",
   "pygments_lexer": "ipython3",
   "version": "3.9.23"
  }
 },
 "nbformat": 4,
 "nbformat_minor": 4
}
