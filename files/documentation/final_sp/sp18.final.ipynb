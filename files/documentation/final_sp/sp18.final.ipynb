{
 "cells": [
  {
   "cell_type": "markdown",
   "metadata": {},
   "source": [
    "# Hola &#x1F600;,\n",
    "\n",
    "Soy **Hesus Garcia** – **\"Soy el único Hesus que conoces (y probablemente conocerás) 🌟\"** – Sí, como \"Jesús\", pero con una H que me hace único. Puede sonar raro, pero créeme, ¡no lo olvidarás! Como tu revisor en Triple-Ten, estoy aquí para guiarte y ayudarte a mejorar tu código. Si algo necesita un ajuste, no hay de qué preocuparse; ¡aquí estoy para hacer que tu trabajo brille con todo su potencial! ✨\n",
    "\n",
    "Cada vez que encuentre un detalle importante en tu código, te lo señalaré para que puedas corregirlo y así te prepares para un ambiente de trabajo real, donde el líder de tu equipo actuaría de manera similar. Si en algún momento no logras solucionar el problema, te daré más detalles para ayudarte en nuestra próxima oportunidad de revisión.\n",
    "\n",
    "Es importante que cuando encuentres un comentario, **no los muevas, no los modifiques, ni los borres**.\n",
    "\n",
    "---\n",
    "\n",
    "### Formato de Comentarios\n",
    "\n",
    "Revisaré cuidadosamente cada implementación en tu notebook para asegurar que cumpla con los requisitos y te daré comentarios de acuerdo al siguiente formato:\n",
    "\n",
    "\n",
    "<div class=\"alert alert-block alert-success\">\n",
    "<b>Comentario del revisor</b> <a class=\"tocSkip\"></a><br>\n",
    "    \n",
    "<b>Éxito</b> - ¡Excelente trabajo! Esta parte está bien implementada y contribuye significativamente al análisis de datos o al proyecto. Continúa aplicando estas buenas prácticas en futuras secciones.\n",
    "    \n",
    "</div>\n",
    "\n",
    "<div class=\"alert alert-block alert-warning\">\n",
    "<b>Comentario del revisor</b> <a class=\"tocSkip\"></a><br>\n",
    "    \n",
    "<b>Atención</b> ⚠️ - Este código está correcto, pero se puede optimizar. Considera implementar mejoras para que sea más eficiente y fácil de leer. Esto fortalecerá la calidad de tu proyecto.\n",
    "    \n",
    "</div>\n",
    "\n",
    "<div class=\"alert alert-block alert-danger\">\n",
    "<b>Comentario del revisor</b> <a class=\"tocSkip\"></a><br>\n",
    "    \n",
    "<b>A resolver</b> ❗ - Aquí hay un problema o error en el código que es necesario corregir para aprobar esta sección. Por favor, revisa y corrige este punto, ya que es fundamental para la validez del análisis y la precisión de los resultados.\n",
    "    \n",
    "</div>\n",
    "\n",
    "---\n",
    "\n",
    "Al final de cada revisión, recibirás un **Comentario General del Revisor** que incluirá:\n",
    "\n",
    "- **Aspectos positivos:** Un resumen de los puntos fuertes de tu proyecto.\n",
    "- **Áreas de mejora:** Sugerencias sobre aspectos donde puedes mejorar.\n",
    "- **Temas adicionales para investigar:** Ideas de temas opcionales que puedes explorar por tu cuenta para desarrollar aún más tus habilidades.\n",
    "\n",
    "Estos temas adicionales no son obligatorios en esta etapa, pero pueden serte útiles para profundizar en el futuro.\n",
    "\n",
    "---\n",
    "\n",
    "\n",
    "Esta estructura en viñetas facilita la lectura y comprensión de cada parte del comentario final.\n",
    "\n",
    "También puedes responderme de la siguiente manera si tienes alguna duda o quieres aclarar algo específico:\n",
    "\n",
    "\n",
    "<div class=\"alert alert-block alert-info\">\n",
    "<b>Respuesta del estudiante</b> <a class=\"tocSkip\"></a>\n",
    "    \n",
    "Aquí puedes escribir tu respuesta o pregunta sobre el comentario.\n",
    "    \n",
    "</div>\n",
    "\n",
    "\n",
    "**¡Empecemos!** &#x1F680;\n"
   ]
  },
  {
   "cell_type": "markdown",
   "metadata": {},
   "source": [
    "# Analisis para Interconect (Telecom/Prevencion de Churn)"
   ]
  },
  {
   "cell_type": "markdown",
   "metadata": {},
   "source": [
    "## Descripcion del problema"
   ]
  },
  {
   "cell_type": "markdown",
   "metadata": {},
   "source": [
    "Al operador de telecomunicaciones Interconnect le gustaría poder pronosticar su tasa de cancelación de clientes. \n",
    "Si se descubre que un usuario o usuaria planea irse, se le ofrecerán códigos promocionales y opciones de planes especiales. El equipo de marketing de Interconnect ha recopilado algunos de los datos personales de sus clientes, incluyendo información sobre sus planes y contratos.\n",
    "\n",
    "### Servicios de Interconnect\n",
    "\n",
    "Interconnect proporciona principalmente dos tipos de servicios:\n",
    "\n",
    "1. Comunicación por teléfono fijo. El teléfono se puede conectar a varias líneas de manera simultánea.\n",
    "2. Internet. La red se puede configurar a través de una línea telefónica (DSL, *línea de abonado digital*) o a través de un cable de fibra óptica.\n",
    "\n",
    "Algunos otros servicios que ofrece la empresa incluyen:\n",
    "\n",
    "- Seguridad en Internet: software antivirus (*ProtecciónDeDispositivo*) y un bloqueador de sitios web maliciosos (*SeguridadEnLínea*).\n",
    "- Una línea de soporte técnico (*SoporteTécnico*).\n",
    "- Almacenamiento de archivos en la nube y backup de datos (*BackupOnline*).\n",
    "- Streaming de TV (*StreamingTV*) y directorio de películas (*StreamingPelículas*)\n",
    "\n",
    "La clientela puede elegir entre un pago mensual o firmar un contrato de 1 o 2 años. Puede utilizar varios métodos de pago y recibir una factura electrónica después de una transacción.\n",
    "\n",
    "### Descripción de los datos\n",
    "\n",
    "Los datos consisten en archivos obtenidos de diferentes fuentes:\n",
    "\n",
    "- `contract.csv` — información del contrato;\n",
    "- `personal.csv` — datos personales del cliente;\n",
    "- `internet.csv` — información sobre los servicios de Internet;\n",
    "- `phone.csv` — información sobre los servicios telefónicos.\n",
    "\n",
    "En cada archivo, la columna `customerID` (ID de cliente) contiene un código único asignado a cada cliente. La información del contrato es válida a partir del 1 de febrero de 2020."
   ]
  },
  {
   "cell_type": "markdown",
   "metadata": {},
   "source": [
    "## Inicializacion"
   ]
  },
  {
   "cell_type": "markdown",
   "metadata": {},
   "source": [
    "### Carga de librerias"
   ]
  },
  {
   "cell_type": "code",
   "execution_count": 292,
   "metadata": {},
   "outputs": [],
   "source": [
    "import pandas as pd\n",
    "import numpy as np\n",
    "\n",
    "from sklearn.preprocessing import StandardScaler\n",
    "from sklearn.model_selection import train_test_split\n",
    "from sklearn.model_selection import GridSearchCV\n",
    "\n",
    "import sklearn.metrics as metrics\n",
    "from sklearn.metrics import roc_curve\n",
    "from sklearn.metrics import roc_auc_score\n",
    "from sklearn.metrics import precision_score\n",
    "from sklearn.metrics import recall_score\n",
    "from sklearn.metrics import f1_score\n",
    "\n",
    "from sklearn.utils import shuffle\n",
    "\n",
    "from sklearn.dummy import DummyClassifier\n",
    "from sklearn.tree import DecisionTreeClassifier\n",
    "from sklearn.linear_model import LogisticRegression\n",
    "from sklearn.ensemble import RandomForestClassifier\n",
    "from catboost import CatBoostClassifier\n",
    "\n",
    "import lightgbm as lgb\n",
    "\n",
    "import matplotlib.pyplot as plt\n",
    "import seaborn as sns\n",
    "\n",
    "\n",
    "#from sklearn.datasets import make_classification\n"
   ]
  },
  {
   "cell_type": "markdown",
   "metadata": {},
   "source": [
    "### Variables"
   ]
  },
  {
   "cell_type": "code",
   "execution_count": 293,
   "metadata": {},
   "outputs": [],
   "source": [
    "validation_size = 0.25"
   ]
  },
  {
   "cell_type": "markdown",
   "metadata": {},
   "source": [
    "<div class=\"alert alert-block alert-success\"> <b>Comentario del revisor</b> <a class=\"tocSkip\"></a><br> <b>Éxito</b> - Buena selección y organización de librerías, cubriendo desde la manipulación de datos hasta el modelado y visualización. Una base sólida para el desarrollo del proyecto.</div>\n"
   ]
  },
  {
   "cell_type": "markdown",
   "metadata": {},
   "source": [
    "## Funciones"
   ]
  },
  {
   "cell_type": "code",
   "execution_count": 294,
   "metadata": {},
   "outputs": [],
   "source": [
    "\"\"\"\n",
    " Analiza si el customerID se encuentra mas de una vez en el data set lo que implicaría que es una relacion 1:n\n",
    "\"\"\"\n",
    "def analizaDatosLlave(df):\n",
    "    customer_counts = df['customerID'].value_counts()\n",
    "    duplicate_ids = customer_counts[customer_counts > 1].index.tolist()\n",
    "    \n",
    "    print(\"customerIDs que aparecen más de una vez:\", duplicate_ids)\n",
    "    print(\"-\" * 30)"
   ]
  },
  {
   "cell_type": "code",
   "execution_count": 295,
   "metadata": {},
   "outputs": [],
   "source": [
    "\n",
    "def generaGraficaCorr(data):\n",
    "    # Graficando la correlacion entre variables numericas Posterior a la estandarizacion \n",
    "    corr = data.corr()  # Calculate the correlation matrix\n",
    "    sns.heatmap(corr, annot=False, cmap='coolwarm')  # Create a heatmap\n",
    "    plt.show()"
   ]
  },
  {
   "cell_type": "code",
   "execution_count": 296,
   "metadata": {},
   "outputs": [],
   "source": [
    "def displayClassFrequency(y_train):\n",
    "    class_frequency = y_train.value_counts(normalize=True)\n",
    "    print(\"Normalized Class Frequency:\")\n",
    "    print(class_frequency)\n",
    "    class_frequency.plot(kind='bar')"
   ]
  },
  {
   "cell_type": "code",
   "execution_count": 297,
   "metadata": {},
   "outputs": [],
   "source": [
    "# A function to generate oversampling\n",
    "def generate_oversamples(features, target, nrepeat):\n",
    "\n",
    "    if (target[target == 0].count()<target[target == 1].count()):\n",
    "        target_minority_class = target[target == 0]\n",
    "        target_majority_class = target[target == 1]\n",
    "        features_minority_class = features[target == 0]\n",
    "        features_majority_class = features[target == 1]\n",
    "    else:\n",
    "        target_minority_class = target[target == 1]\n",
    "        target_majority_class = target[target == 0]\n",
    "        features_minority_class = features[target == 1]\n",
    "        features_majority_class = features[target == 0]\n",
    "\n",
    "    diff = 0\n",
    "    if(nrepeat==0):\n",
    "        nrepeat = int(target_majority_class.count()/target_minority_class.count())\n",
    "        diff = target_majority_class.count() % target_minority_class.count()\n",
    "\n",
    "    features_upsampled = pd.concat(\n",
    "        [features_majority_class] + \n",
    "        [features_minority_class] * nrepeat \n",
    "    )\n",
    "    \n",
    "    target_upsampled = pd.concat(\n",
    "        [target_majority_class] + \n",
    "        [target_minority_class] * nrepeat \n",
    "    )\n",
    "\n",
    "    if diff>0:\n",
    "        features_upsampled = pd.concat(\n",
    "            [features_upsampled] + [features_minority_class.sample(diff, random_state=12345)]\n",
    "        )\n",
    "        target_upsampled = pd.concat(\n",
    "            [target_upsampled] + [target_minority_class.sample(diff, random_state=12345)]\n",
    "        )\n",
    "        \n",
    "\n",
    "    features_upsampled, target_upsampled = shuffle(\n",
    "        features_upsampled, target_upsampled, random_state=12345\n",
    "    )\n",
    "\n",
    "    return features_upsampled, target_upsampled"
   ]
  },
  {
   "cell_type": "code",
   "execution_count": 298,
   "metadata": {},
   "outputs": [],
   "source": [
    "# A function to generate a undersampling\n",
    "def undersample(features, target, fraction):\n",
    "    features_zeros = features[target == 0]\n",
    "    features_ones = features[target == 1]\n",
    "    target_zeros = target[target == 0]\n",
    "    target_ones = target[target == 1]\n",
    "\n",
    "    if(target_zeros.count()>target_ones.count()):\n",
    "        features_downsampled = pd.concat(\n",
    "            [features_zeros.sample(frac=fraction, random_state=12345)]+[features_ones]\n",
    "        )\n",
    "        target_downsampled = pd.concat(\n",
    "            [target_zeros.sample(frac=fraction, random_state=12345)]+[target_ones]\n",
    "        )\n",
    "    else:\n",
    "        features_downsampled = pd.concat(\n",
    "            [features_ones.sample(frac=fraction, random_state=12345)]+[features_zeros]\n",
    "        )\n",
    "        target_downsampled = pd.concat(\n",
    "            [features_ones.sample(frac=fraction, random_state=12345)]+[features_zeros]\n",
    "        )\n",
    "\n",
    "    features_downsampled, target_downsampled = shuffle(\n",
    "        features_downsampled, target_downsampled, random_state=12345\n",
    "    )\n",
    "\n",
    "    return features_downsampled, target_downsampled"
   ]
  },
  {
   "cell_type": "code",
   "execution_count": 299,
   "metadata": {},
   "outputs": [],
   "source": [
    "def selectBestModel(features_train, target_train, strategy_label):\n",
    "    best_score = 0\n",
    "    the_best_model = {}\n",
    "    for model_name, model in models.items():\n",
    "        model_grid_params = grid_params[model_name]\n",
    "        search = GridSearchCV(model,\n",
    "                              #scoring='f1',\n",
    "                              scoring='roc_auc',\n",
    "                              param_grid=model_grid_params,\n",
    "                              cv=5,\n",
    "                              n_jobs=-1)\n",
    "        search.fit(features_train, target_train)\n",
    "\n",
    "        if search.best_score_ > best_score:\n",
    "            the_best_model[\"strategy_label\"] = strategy_label\n",
    "            the_best_model[\"best_estimator\"] = search.best_estimator_\n",
    "            the_best_model[\"best_score\"] = search.best_score_\n",
    "            the_best_model[\"best_params\"] = search.best_params_\n",
    "            best_score = search.best_score_\n",
    "\n",
    "    return the_best_model"
   ]
  },
  {
   "cell_type": "code",
   "execution_count": 300,
   "metadata": {},
   "outputs": [],
   "source": [
    "def evaluate_model(model, train_features, train_target, test_features, test_target):\n",
    "    \n",
    "    eval_stats = {}\n",
    "    \n",
    "    fig, axs = plt.subplots(1, 3, figsize=(20, 6)) \n",
    "    \n",
    "    for type, features, target in (('train', train_features, train_target), ('test', test_features, test_target)):\n",
    "        \n",
    "        eval_stats[type] = {}\n",
    "    \n",
    "        pred_target = model.predict(features)\n",
    "        pred_proba = model.predict_proba(features)[:, 1]\n",
    "        \n",
    "        # F1\n",
    "        f1_thresholds = np.arange(0, 1.01, 0.05)\n",
    "        f1_scores = [metrics.f1_score(target, pred_proba>=threshold) for threshold in f1_thresholds]\n",
    "        \n",
    "        # ROC\n",
    "        fpr, tpr, roc_thresholds = metrics.roc_curve(target, pred_proba)\n",
    "        roc_auc = metrics.roc_auc_score(target, pred_proba)    \n",
    "        eval_stats[type]['ROC AUC'] = roc_auc\n",
    "\n",
    "        # PRC\n",
    "        precision, recall, pr_thresholds = metrics.precision_recall_curve(target, pred_proba)\n",
    "        aps = metrics.average_precision_score(target, pred_proba)\n",
    "        eval_stats[type]['APS'] = aps\n",
    "        \n",
    "        if type == 'train':\n",
    "            color = 'blue'\n",
    "        else:\n",
    "            color = 'green'\n",
    "\n",
    "        # Valor F1\n",
    "        ax = axs[0]\n",
    "        max_f1_score_idx = np.argmax(f1_scores)\n",
    "        ax.plot(f1_thresholds, f1_scores, color=color, label=f'{type}, max={f1_scores[max_f1_score_idx]:.2f} @ {f1_thresholds[max_f1_score_idx]:.2f}')\n",
    "        # establecer cruces para algunos umbrales        \n",
    "        for threshold in (0.2, 0.4, 0.5, 0.6, 0.8):\n",
    "            closest_value_idx = np.argmin(np.abs(f1_thresholds-threshold))\n",
    "            marker_color = 'orange' if threshold != 0.5 else 'red'\n",
    "            ax.plot(f1_thresholds[closest_value_idx], f1_scores[closest_value_idx], color=marker_color, marker='X', markersize=7)\n",
    "        ax.set_xlim([-0.02, 1.02])    \n",
    "        ax.set_ylim([-0.02, 1.02])\n",
    "        ax.set_xlabel('threshold')\n",
    "        ax.set_ylabel('F1')\n",
    "        ax.legend(loc='lower center')\n",
    "        ax.set_title(f'Valor F1') \n",
    "\n",
    "        # ROC\n",
    "        ax = axs[1]    \n",
    "        ax.plot(fpr, tpr, color=color, label=f'{type}, ROC AUC={roc_auc:.2f}')\n",
    "        # establecer cruces para algunos umbrales        \n",
    "        for threshold in (0.2, 0.4, 0.5, 0.6, 0.8):\n",
    "            closest_value_idx = np.argmin(np.abs(roc_thresholds-threshold))\n",
    "            marker_color = 'orange' if threshold != 0.5 else 'red'            \n",
    "            ax.plot(fpr[closest_value_idx], tpr[closest_value_idx], color=marker_color, marker='X', markersize=7)\n",
    "        ax.plot([0, 1], [0, 1], color='grey', linestyle='--')\n",
    "        ax.set_xlim([-0.02, 1.02])    \n",
    "        ax.set_ylim([-0.02, 1.02])\n",
    "        ax.set_xlabel('False Positive Rate')\n",
    "        ax.set_ylabel('True Positive Rate')\n",
    "        ax.legend(loc='lower center')        \n",
    "        ax.set_title(f'Curva ROC')\n",
    "        \n",
    "        # PRC\n",
    "        ax = axs[2]\n",
    "        ax.plot(recall, precision, color=color, label=f'{type}, AP={aps:.2f}')\n",
    "        # establecer cruces para algunos umbrales        \n",
    "        for threshold in (0.2, 0.4, 0.5, 0.6, 0.8):\n",
    "            closest_value_idx = np.argmin(np.abs(pr_thresholds-threshold))\n",
    "            marker_color = 'orange' if threshold != 0.5 else 'red'\n",
    "            ax.plot(recall[closest_value_idx], precision[closest_value_idx], color=marker_color, marker='X', markersize=7)\n",
    "        ax.set_xlim([-0.02, 1.02])    \n",
    "        ax.set_ylim([-0.02, 1.02])\n",
    "        ax.set_xlabel('recall')\n",
    "        ax.set_ylabel('precision')\n",
    "        ax.legend(loc='lower center')\n",
    "        ax.set_title(f'PRC')        \n",
    "        \n",
    "        eval_stats[type]['Accuracy'] = metrics.accuracy_score(target, pred_target)\n",
    "        eval_stats[type]['F1'] = metrics.f1_score(target, pred_target)\n",
    "    \n",
    "    df_eval_stats = pd.DataFrame(eval_stats)\n",
    "    df_eval_stats = df_eval_stats.round(2)\n",
    "    df_eval_stats = df_eval_stats.reindex(index=('Exactitud', 'F1', 'APS', 'ROC AUC'))\n",
    "    \n",
    "    print(df_eval_stats)\n",
    "    \n",
    "    return"
   ]
  },
  {
   "cell_type": "markdown",
   "metadata": {},
   "source": [
    "<div class=\"alert alert-block alert-success\"> <b>Comentario del revisor</b> <a class=\"tocSkip\"></a><br> <b>Éxito</b> - Muy buena implementación de funciones clave para el análisis y evaluación de modelos, con una estructura clara que cubre desde la exploración de datos hasta métricas avanzadas de desempeño.</div>\n"
   ]
  },
  {
   "cell_type": "markdown",
   "metadata": {},
   "source": [
    "## Carga de datos"
   ]
  },
  {
   "cell_type": "code",
   "execution_count": 301,
   "metadata": {},
   "outputs": [],
   "source": [
    "df_contract = pd.read_csv(\"/datasets/final_provider/contract.csv\")\n",
    "df_personal = pd.read_csv(\"/datasets/final_provider/personal.csv\")\n",
    "df_internet = pd.read_csv(\"/datasets/final_provider/internet.csv\")\n",
    "df_phone = pd.read_csv(\"/datasets/final_provider/phone.csv\")"
   ]
  },
  {
   "cell_type": "markdown",
   "metadata": {},
   "source": [
    "<div class=\"alert alert-block alert-success\"> <b>Comentario del revisor</b> <a class=\"tocSkip\"></a><br> <b>Éxito</b> - Correcta carga de los datasets necesarios, estableciendo una base ordenada para el análisis posterior.</div>\n"
   ]
  },
  {
   "cell_type": "markdown",
   "metadata": {},
   "source": [
    "## Analisis Exploratorio de Datos (EDA)"
   ]
  },
  {
   "cell_type": "markdown",
   "metadata": {},
   "source": [
    "### Contracts (dataset)"
   ]
  },
  {
   "cell_type": "code",
   "execution_count": 302,
   "metadata": {},
   "outputs": [
    {
     "name": "stdout",
     "output_type": "stream",
     "text": [
      "<class 'pandas.core.frame.DataFrame'>\n",
      "RangeIndex: 7043 entries, 0 to 7042\n",
      "Data columns (total 8 columns):\n",
      " #   Column            Non-Null Count  Dtype  \n",
      "---  ------            --------------  -----  \n",
      " 0   customerID        7043 non-null   object \n",
      " 1   BeginDate         7043 non-null   object \n",
      " 2   EndDate           7043 non-null   object \n",
      " 3   Type              7043 non-null   object \n",
      " 4   PaperlessBilling  7043 non-null   object \n",
      " 5   PaymentMethod     7043 non-null   object \n",
      " 6   MonthlyCharges    7043 non-null   float64\n",
      " 7   TotalCharges      7043 non-null   object \n",
      "dtypes: float64(1), object(7)\n",
      "memory usage: 440.3+ KB\n"
     ]
    }
   ],
   "source": [
    "df_contract.info()"
   ]
  },
  {
   "cell_type": "code",
   "execution_count": 303,
   "metadata": {},
   "outputs": [
    {
     "data": {
      "text/html": [
       "<div>\n",
       "<style scoped>\n",
       "    .dataframe tbody tr th:only-of-type {\n",
       "        vertical-align: middle;\n",
       "    }\n",
       "\n",
       "    .dataframe tbody tr th {\n",
       "        vertical-align: top;\n",
       "    }\n",
       "\n",
       "    .dataframe thead th {\n",
       "        text-align: right;\n",
       "    }\n",
       "</style>\n",
       "<table border=\"1\" class=\"dataframe\">\n",
       "  <thead>\n",
       "    <tr style=\"text-align: right;\">\n",
       "      <th></th>\n",
       "      <th>customerID</th>\n",
       "      <th>BeginDate</th>\n",
       "      <th>EndDate</th>\n",
       "      <th>Type</th>\n",
       "      <th>PaperlessBilling</th>\n",
       "      <th>PaymentMethod</th>\n",
       "      <th>MonthlyCharges</th>\n",
       "      <th>TotalCharges</th>\n",
       "    </tr>\n",
       "  </thead>\n",
       "  <tbody>\n",
       "    <tr>\n",
       "      <th>1483</th>\n",
       "      <td>0743-HNPFG</td>\n",
       "      <td>2015-11-01</td>\n",
       "      <td>No</td>\n",
       "      <td>One year</td>\n",
       "      <td>Yes</td>\n",
       "      <td>Credit card (automatic)</td>\n",
       "      <td>69.75</td>\n",
       "      <td>3562.5</td>\n",
       "    </tr>\n",
       "    <tr>\n",
       "      <th>4315</th>\n",
       "      <td>9019-QVLZD</td>\n",
       "      <td>2019-11-01</td>\n",
       "      <td>2019-12-01 00:00:00</td>\n",
       "      <td>Month-to-month</td>\n",
       "      <td>No</td>\n",
       "      <td>Electronic check</td>\n",
       "      <td>79.55</td>\n",
       "      <td>79.55</td>\n",
       "    </tr>\n",
       "    <tr>\n",
       "      <th>2181</th>\n",
       "      <td>1136-XGEQU</td>\n",
       "      <td>2015-12-01</td>\n",
       "      <td>No</td>\n",
       "      <td>One year</td>\n",
       "      <td>Yes</td>\n",
       "      <td>Credit card (automatic)</td>\n",
       "      <td>84.15</td>\n",
       "      <td>4164.4</td>\n",
       "    </tr>\n",
       "    <tr>\n",
       "      <th>1876</th>\n",
       "      <td>3946-JEWRQ</td>\n",
       "      <td>2016-03-01</td>\n",
       "      <td>No</td>\n",
       "      <td>One year</td>\n",
       "      <td>Yes</td>\n",
       "      <td>Credit card (automatic)</td>\n",
       "      <td>95.20</td>\n",
       "      <td>4563</td>\n",
       "    </tr>\n",
       "    <tr>\n",
       "      <th>2817</th>\n",
       "      <td>0936-NQLJU</td>\n",
       "      <td>2016-09-01</td>\n",
       "      <td>No</td>\n",
       "      <td>Two year</td>\n",
       "      <td>No</td>\n",
       "      <td>Credit card (automatic)</td>\n",
       "      <td>20.65</td>\n",
       "      <td>875.55</td>\n",
       "    </tr>\n",
       "    <tr>\n",
       "      <th>1705</th>\n",
       "      <td>4918-FYJNT</td>\n",
       "      <td>2015-07-01</td>\n",
       "      <td>No</td>\n",
       "      <td>Month-to-month</td>\n",
       "      <td>No</td>\n",
       "      <td>Electronic check</td>\n",
       "      <td>90.45</td>\n",
       "      <td>5044.8</td>\n",
       "    </tr>\n",
       "    <tr>\n",
       "      <th>5270</th>\n",
       "      <td>6682-QJDGB</td>\n",
       "      <td>2016-07-01</td>\n",
       "      <td>2019-11-01 00:00:00</td>\n",
       "      <td>Month-to-month</td>\n",
       "      <td>Yes</td>\n",
       "      <td>Mailed check</td>\n",
       "      <td>55.25</td>\n",
       "      <td>2139.2</td>\n",
       "    </tr>\n",
       "    <tr>\n",
       "      <th>3779</th>\n",
       "      <td>8631-NBHFZ</td>\n",
       "      <td>2014-06-01</td>\n",
       "      <td>2019-12-01 00:00:00</td>\n",
       "      <td>Two year</td>\n",
       "      <td>No</td>\n",
       "      <td>Credit card (automatic)</td>\n",
       "      <td>79.40</td>\n",
       "      <td>5154.6</td>\n",
       "    </tr>\n",
       "    <tr>\n",
       "      <th>1085</th>\n",
       "      <td>4441-NIHPT</td>\n",
       "      <td>2018-11-01</td>\n",
       "      <td>2019-12-01 00:00:00</td>\n",
       "      <td>Month-to-month</td>\n",
       "      <td>Yes</td>\n",
       "      <td>Electronic check</td>\n",
       "      <td>74.30</td>\n",
       "      <td>940.35</td>\n",
       "    </tr>\n",
       "    <tr>\n",
       "      <th>3737</th>\n",
       "      <td>8601-QACRS</td>\n",
       "      <td>2019-07-01</td>\n",
       "      <td>2019-12-01 00:00:00</td>\n",
       "      <td>Month-to-month</td>\n",
       "      <td>Yes</td>\n",
       "      <td>Mailed check</td>\n",
       "      <td>50.60</td>\n",
       "      <td>249.95</td>\n",
       "    </tr>\n",
       "    <tr>\n",
       "      <th>4244</th>\n",
       "      <td>9975-GPKZU</td>\n",
       "      <td>2016-04-01</td>\n",
       "      <td>No</td>\n",
       "      <td>Two year</td>\n",
       "      <td>No</td>\n",
       "      <td>Credit card (automatic)</td>\n",
       "      <td>19.75</td>\n",
       "      <td>856.5</td>\n",
       "    </tr>\n",
       "    <tr>\n",
       "      <th>2430</th>\n",
       "      <td>1821-BUCWY</td>\n",
       "      <td>2017-08-01</td>\n",
       "      <td>No</td>\n",
       "      <td>Two year</td>\n",
       "      <td>Yes</td>\n",
       "      <td>Mailed check</td>\n",
       "      <td>55.65</td>\n",
       "      <td>1653.85</td>\n",
       "    </tr>\n",
       "    <tr>\n",
       "      <th>4484</th>\n",
       "      <td>7465-ZZRVX</td>\n",
       "      <td>2020-01-01</td>\n",
       "      <td>No</td>\n",
       "      <td>Month-to-month</td>\n",
       "      <td>Yes</td>\n",
       "      <td>Electronic check</td>\n",
       "      <td>70.35</td>\n",
       "      <td>70.35</td>\n",
       "    </tr>\n",
       "    <tr>\n",
       "      <th>31</th>\n",
       "      <td>4929-XIHVW</td>\n",
       "      <td>2019-12-01</td>\n",
       "      <td>No</td>\n",
       "      <td>Month-to-month</td>\n",
       "      <td>Yes</td>\n",
       "      <td>Credit card (automatic)</td>\n",
       "      <td>95.50</td>\n",
       "      <td>181.65</td>\n",
       "    </tr>\n",
       "    <tr>\n",
       "      <th>3823</th>\n",
       "      <td>9065-ZCPQX</td>\n",
       "      <td>2014-02-01</td>\n",
       "      <td>No</td>\n",
       "      <td>Two year</td>\n",
       "      <td>No</td>\n",
       "      <td>Bank transfer (automatic)</td>\n",
       "      <td>78.85</td>\n",
       "      <td>5763.15</td>\n",
       "    </tr>\n",
       "  </tbody>\n",
       "</table>\n",
       "</div>"
      ],
      "text/plain": [
       "      customerID   BeginDate              EndDate            Type  \\\n",
       "1483  0743-HNPFG  2015-11-01                   No        One year   \n",
       "4315  9019-QVLZD  2019-11-01  2019-12-01 00:00:00  Month-to-month   \n",
       "2181  1136-XGEQU  2015-12-01                   No        One year   \n",
       "1876  3946-JEWRQ  2016-03-01                   No        One year   \n",
       "2817  0936-NQLJU  2016-09-01                   No        Two year   \n",
       "1705  4918-FYJNT  2015-07-01                   No  Month-to-month   \n",
       "5270  6682-QJDGB  2016-07-01  2019-11-01 00:00:00  Month-to-month   \n",
       "3779  8631-NBHFZ  2014-06-01  2019-12-01 00:00:00        Two year   \n",
       "1085  4441-NIHPT  2018-11-01  2019-12-01 00:00:00  Month-to-month   \n",
       "3737  8601-QACRS  2019-07-01  2019-12-01 00:00:00  Month-to-month   \n",
       "4244  9975-GPKZU  2016-04-01                   No        Two year   \n",
       "2430  1821-BUCWY  2017-08-01                   No        Two year   \n",
       "4484  7465-ZZRVX  2020-01-01                   No  Month-to-month   \n",
       "31    4929-XIHVW  2019-12-01                   No  Month-to-month   \n",
       "3823  9065-ZCPQX  2014-02-01                   No        Two year   \n",
       "\n",
       "     PaperlessBilling              PaymentMethod  MonthlyCharges TotalCharges  \n",
       "1483              Yes    Credit card (automatic)           69.75       3562.5  \n",
       "4315               No           Electronic check           79.55        79.55  \n",
       "2181              Yes    Credit card (automatic)           84.15       4164.4  \n",
       "1876              Yes    Credit card (automatic)           95.20         4563  \n",
       "2817               No    Credit card (automatic)           20.65       875.55  \n",
       "1705               No           Electronic check           90.45       5044.8  \n",
       "5270              Yes               Mailed check           55.25       2139.2  \n",
       "3779               No    Credit card (automatic)           79.40       5154.6  \n",
       "1085              Yes           Electronic check           74.30       940.35  \n",
       "3737              Yes               Mailed check           50.60       249.95  \n",
       "4244               No    Credit card (automatic)           19.75        856.5  \n",
       "2430              Yes               Mailed check           55.65      1653.85  \n",
       "4484              Yes           Electronic check           70.35        70.35  \n",
       "31                Yes    Credit card (automatic)           95.50       181.65  \n",
       "3823               No  Bank transfer (automatic)           78.85      5763.15  "
      ]
     },
     "execution_count": 303,
     "metadata": {},
     "output_type": "execute_result"
    }
   ],
   "source": [
    "df_contract.sample(15)"
   ]
  },
  {
   "cell_type": "code",
   "execution_count": 304,
   "metadata": {},
   "outputs": [
    {
     "name": "stdout",
     "output_type": "stream",
     "text": [
      "<class 'pandas.core.frame.DataFrame'>\n",
      "Int64Index: 7043 entries, 0 to 7042\n",
      "Data columns (total 8 columns):\n",
      " #   Column            Non-Null Count  Dtype  \n",
      "---  ------            --------------  -----  \n",
      " 0   customerID        7043 non-null   object \n",
      " 1   BeginDate         7043 non-null   object \n",
      " 2   EndDate           7043 non-null   object \n",
      " 3   Type              7043 non-null   object \n",
      " 4   PaperlessBilling  7043 non-null   object \n",
      " 5   PaymentMethod     7043 non-null   object \n",
      " 6   MonthlyCharges    7043 non-null   float64\n",
      " 7   TotalCharges      7043 non-null   object \n",
      "dtypes: float64(1), object(7)\n",
      "memory usage: 495.2+ KB\n"
     ]
    }
   ],
   "source": [
    "df_contract.drop_duplicates().info()"
   ]
  },
  {
   "cell_type": "code",
   "execution_count": 305,
   "metadata": {},
   "outputs": [
    {
     "data": {
      "text/html": [
       "<div>\n",
       "<style scoped>\n",
       "    .dataframe tbody tr th:only-of-type {\n",
       "        vertical-align: middle;\n",
       "    }\n",
       "\n",
       "    .dataframe tbody tr th {\n",
       "        vertical-align: top;\n",
       "    }\n",
       "\n",
       "    .dataframe thead th {\n",
       "        text-align: right;\n",
       "    }\n",
       "</style>\n",
       "<table border=\"1\" class=\"dataframe\">\n",
       "  <thead>\n",
       "    <tr style=\"text-align: right;\">\n",
       "      <th></th>\n",
       "      <th>MonthlyCharges</th>\n",
       "    </tr>\n",
       "  </thead>\n",
       "  <tbody>\n",
       "    <tr>\n",
       "      <th>count</th>\n",
       "      <td>7043.000000</td>\n",
       "    </tr>\n",
       "    <tr>\n",
       "      <th>mean</th>\n",
       "      <td>64.761692</td>\n",
       "    </tr>\n",
       "    <tr>\n",
       "      <th>std</th>\n",
       "      <td>30.090047</td>\n",
       "    </tr>\n",
       "    <tr>\n",
       "      <th>min</th>\n",
       "      <td>18.250000</td>\n",
       "    </tr>\n",
       "    <tr>\n",
       "      <th>25%</th>\n",
       "      <td>35.500000</td>\n",
       "    </tr>\n",
       "    <tr>\n",
       "      <th>50%</th>\n",
       "      <td>70.350000</td>\n",
       "    </tr>\n",
       "    <tr>\n",
       "      <th>75%</th>\n",
       "      <td>89.850000</td>\n",
       "    </tr>\n",
       "    <tr>\n",
       "      <th>max</th>\n",
       "      <td>118.750000</td>\n",
       "    </tr>\n",
       "  </tbody>\n",
       "</table>\n",
       "</div>"
      ],
      "text/plain": [
       "       MonthlyCharges\n",
       "count     7043.000000\n",
       "mean        64.761692\n",
       "std         30.090047\n",
       "min         18.250000\n",
       "25%         35.500000\n",
       "50%         70.350000\n",
       "75%         89.850000\n",
       "max        118.750000"
      ]
     },
     "execution_count": 305,
     "metadata": {},
     "output_type": "execute_result"
    }
   ],
   "source": [
    "df_contract.describe()"
   ]
  },
  {
   "cell_type": "code",
   "execution_count": 306,
   "metadata": {},
   "outputs": [
    {
     "data": {
      "text/plain": [
       "array(['2020-01-01', '2017-04-01', '2019-10-01', '2016-05-01',\n",
       "       '2019-09-01', '2019-03-01', '2018-04-01', '2019-04-01',\n",
       "       '2017-07-01', '2014-12-01', '2019-01-01', '2018-10-01',\n",
       "       '2015-04-01', '2015-09-01', '2018-01-01', '2014-05-01',\n",
       "       '2015-10-01', '2014-03-01', '2018-05-01', '2019-11-01',\n",
       "       '2019-02-01', '2016-01-01', '2017-08-01', '2015-12-01',\n",
       "       '2014-02-01', '2018-06-01', '2019-12-01', '2017-11-01',\n",
       "       '2019-06-01', '2016-04-01', '2017-02-01', '2018-12-01',\n",
       "       '2014-04-01', '2018-09-01', '2014-11-01', '2016-07-01',\n",
       "       '2015-02-01', '2018-07-01', '2014-08-01', '2016-03-01',\n",
       "       '2018-08-01', '2014-10-01', '2015-06-01', '2016-08-01',\n",
       "       '2019-05-01', '2017-03-01', '2016-02-01', '2017-09-01',\n",
       "       '2014-09-01', '2017-12-01', '2016-12-01', '2017-06-01',\n",
       "       '2015-05-01', '2016-10-01', '2016-09-01', '2019-08-01',\n",
       "       '2019-07-01', '2017-05-01', '2017-10-01', '2014-07-01',\n",
       "       '2018-03-01', '2015-01-01', '2018-11-01', '2015-03-01',\n",
       "       '2018-02-01', '2016-06-01', '2015-08-01', '2015-11-01',\n",
       "       '2014-06-01', '2017-01-01', '2015-07-01', '2020-02-01',\n",
       "       '2016-11-01', '2013-11-01', '2014-01-01', '2013-10-01',\n",
       "       '2013-12-01'], dtype=object)"
      ]
     },
     "execution_count": 306,
     "metadata": {},
     "output_type": "execute_result"
    }
   ],
   "source": [
    "df_contract[\"BeginDate\"].unique()"
   ]
  },
  {
   "cell_type": "code",
   "execution_count": 307,
   "metadata": {},
   "outputs": [
    {
     "data": {
      "text/plain": [
       "2020-01-01    233\n",
       "2020-02-01     11\n",
       "Name: BeginDate, dtype: int64"
      ]
     },
     "execution_count": 307,
     "metadata": {},
     "output_type": "execute_result"
    }
   ],
   "source": [
    "df_contract[df_contract[\"BeginDate\"]>=\"2020-01-01\"][\"BeginDate\"].value_counts()"
   ]
  },
  {
   "cell_type": "code",
   "execution_count": 308,
   "metadata": {},
   "outputs": [
    {
     "data": {
      "text/plain": [
       "No                     5174\n",
       "2020-01-01 00:00:00     460\n",
       "Name: EndDate, dtype: int64"
      ]
     },
     "execution_count": 308,
     "metadata": {},
     "output_type": "execute_result"
    }
   ],
   "source": [
    "df_contract[df_contract[\"EndDate\"]>=\"2020-01-01\"][\"EndDate\"].value_counts()"
   ]
  },
  {
   "cell_type": "code",
   "execution_count": 309,
   "metadata": {},
   "outputs": [
    {
     "name": "stdout",
     "output_type": "stream",
     "text": [
      "['Month-to-month' 'One year' 'Two year']\n",
      "['No' 'Yes']\n",
      "['Bank transfer (automatic)' 'Credit card (automatic)' 'Electronic check'\n",
      " 'Mailed check']\n",
      "['2019-10-01 00:00:00' '2019-11-01 00:00:00' '2019-12-01 00:00:00'\n",
      " '2020-01-01 00:00:00' 'No']\n"
     ]
    }
   ],
   "source": [
    "print(df_contract['Type'].sort_values().unique())\n",
    "print(df_contract['PaperlessBilling'].sort_values().unique())\n",
    "print(df_contract['PaymentMethod'].sort_values().unique())\n",
    "print(df_contract['EndDate'].sort_values().unique())"
   ]
  },
  {
   "cell_type": "code",
   "execution_count": 310,
   "metadata": {},
   "outputs": [
    {
     "name": "stdout",
     "output_type": "stream",
     "text": [
      "\n",
      "¿Contiene la serie valores no numéricos (NaN)? True\n"
     ]
    }
   ],
   "source": [
    "# Convertir la serie a numérica con manejo de errores\n",
    "s_numeric = pd.to_numeric(df_contract[\"TotalCharges\"], errors='coerce')\n",
    "\n",
    "# Verificar si hay valores NaN (no numéricos)\n",
    "has_non_numeric = s_numeric.isna().any()\n",
    "\n",
    "print(\"\\n¿Contiene la serie valores no numéricos (NaN)?\", has_non_numeric)"
   ]
  },
  {
   "cell_type": "code",
   "execution_count": 311,
   "metadata": {},
   "outputs": [
    {
     "data": {
      "text/plain": [
       "     11\n",
       "Name: TotalCharges, dtype: int64"
      ]
     },
     "execution_count": 311,
     "metadata": {},
     "output_type": "execute_result"
    }
   ],
   "source": [
    "df_contract[s_numeric.isna()][\"TotalCharges\"].value_counts()"
   ]
  },
  {
   "cell_type": "code",
   "execution_count": 312,
   "metadata": {},
   "outputs": [
    {
     "data": {
      "text/html": [
       "<div>\n",
       "<style scoped>\n",
       "    .dataframe tbody tr th:only-of-type {\n",
       "        vertical-align: middle;\n",
       "    }\n",
       "\n",
       "    .dataframe tbody tr th {\n",
       "        vertical-align: top;\n",
       "    }\n",
       "\n",
       "    .dataframe thead th {\n",
       "        text-align: right;\n",
       "    }\n",
       "</style>\n",
       "<table border=\"1\" class=\"dataframe\">\n",
       "  <thead>\n",
       "    <tr style=\"text-align: right;\">\n",
       "      <th></th>\n",
       "      <th>customerID</th>\n",
       "      <th>BeginDate</th>\n",
       "      <th>EndDate</th>\n",
       "      <th>Type</th>\n",
       "      <th>PaperlessBilling</th>\n",
       "      <th>PaymentMethod</th>\n",
       "      <th>MonthlyCharges</th>\n",
       "      <th>TotalCharges</th>\n",
       "    </tr>\n",
       "  </thead>\n",
       "  <tbody>\n",
       "    <tr>\n",
       "      <th>936</th>\n",
       "      <td>5709-LVOEQ</td>\n",
       "      <td>2020-02-01</td>\n",
       "      <td>No</td>\n",
       "      <td>Two year</td>\n",
       "      <td>No</td>\n",
       "      <td>Mailed check</td>\n",
       "      <td>80.85</td>\n",
       "      <td></td>\n",
       "    </tr>\n",
       "    <tr>\n",
       "      <th>6670</th>\n",
       "      <td>4075-WKNIU</td>\n",
       "      <td>2020-02-01</td>\n",
       "      <td>No</td>\n",
       "      <td>Two year</td>\n",
       "      <td>No</td>\n",
       "      <td>Mailed check</td>\n",
       "      <td>73.35</td>\n",
       "      <td></td>\n",
       "    </tr>\n",
       "    <tr>\n",
       "      <th>488</th>\n",
       "      <td>4472-LVYGI</td>\n",
       "      <td>2020-02-01</td>\n",
       "      <td>No</td>\n",
       "      <td>Two year</td>\n",
       "      <td>Yes</td>\n",
       "      <td>Bank transfer (automatic)</td>\n",
       "      <td>52.55</td>\n",
       "      <td></td>\n",
       "    </tr>\n",
       "    <tr>\n",
       "      <th>3331</th>\n",
       "      <td>7644-OMVMY</td>\n",
       "      <td>2020-02-01</td>\n",
       "      <td>No</td>\n",
       "      <td>Two year</td>\n",
       "      <td>No</td>\n",
       "      <td>Mailed check</td>\n",
       "      <td>19.85</td>\n",
       "      <td></td>\n",
       "    </tr>\n",
       "    <tr>\n",
       "      <th>6754</th>\n",
       "      <td>2775-SEFEE</td>\n",
       "      <td>2020-02-01</td>\n",
       "      <td>No</td>\n",
       "      <td>Two year</td>\n",
       "      <td>Yes</td>\n",
       "      <td>Bank transfer (automatic)</td>\n",
       "      <td>61.90</td>\n",
       "      <td></td>\n",
       "    </tr>\n",
       "    <tr>\n",
       "      <th>753</th>\n",
       "      <td>3115-CZMZD</td>\n",
       "      <td>2020-02-01</td>\n",
       "      <td>No</td>\n",
       "      <td>Two year</td>\n",
       "      <td>No</td>\n",
       "      <td>Mailed check</td>\n",
       "      <td>20.25</td>\n",
       "      <td></td>\n",
       "    </tr>\n",
       "    <tr>\n",
       "      <th>1082</th>\n",
       "      <td>4367-NUYAO</td>\n",
       "      <td>2020-02-01</td>\n",
       "      <td>No</td>\n",
       "      <td>Two year</td>\n",
       "      <td>No</td>\n",
       "      <td>Mailed check</td>\n",
       "      <td>25.75</td>\n",
       "      <td></td>\n",
       "    </tr>\n",
       "    <tr>\n",
       "      <th>3826</th>\n",
       "      <td>3213-VVOLG</td>\n",
       "      <td>2020-02-01</td>\n",
       "      <td>No</td>\n",
       "      <td>Two year</td>\n",
       "      <td>No</td>\n",
       "      <td>Mailed check</td>\n",
       "      <td>25.35</td>\n",
       "      <td></td>\n",
       "    </tr>\n",
       "    <tr>\n",
       "      <th>4380</th>\n",
       "      <td>2520-SGTTA</td>\n",
       "      <td>2020-02-01</td>\n",
       "      <td>No</td>\n",
       "      <td>Two year</td>\n",
       "      <td>No</td>\n",
       "      <td>Mailed check</td>\n",
       "      <td>20.00</td>\n",
       "      <td></td>\n",
       "    </tr>\n",
       "    <tr>\n",
       "      <th>5218</th>\n",
       "      <td>2923-ARZLG</td>\n",
       "      <td>2020-02-01</td>\n",
       "      <td>No</td>\n",
       "      <td>One year</td>\n",
       "      <td>Yes</td>\n",
       "      <td>Mailed check</td>\n",
       "      <td>19.70</td>\n",
       "      <td></td>\n",
       "    </tr>\n",
       "    <tr>\n",
       "      <th>1340</th>\n",
       "      <td>1371-DWPAZ</td>\n",
       "      <td>2020-02-01</td>\n",
       "      <td>No</td>\n",
       "      <td>Two year</td>\n",
       "      <td>No</td>\n",
       "      <td>Credit card (automatic)</td>\n",
       "      <td>56.05</td>\n",
       "      <td></td>\n",
       "    </tr>\n",
       "  </tbody>\n",
       "</table>\n",
       "</div>"
      ],
      "text/plain": [
       "      customerID   BeginDate EndDate      Type PaperlessBilling  \\\n",
       "936   5709-LVOEQ  2020-02-01      No  Two year               No   \n",
       "6670  4075-WKNIU  2020-02-01      No  Two year               No   \n",
       "488   4472-LVYGI  2020-02-01      No  Two year              Yes   \n",
       "3331  7644-OMVMY  2020-02-01      No  Two year               No   \n",
       "6754  2775-SEFEE  2020-02-01      No  Two year              Yes   \n",
       "753   3115-CZMZD  2020-02-01      No  Two year               No   \n",
       "1082  4367-NUYAO  2020-02-01      No  Two year               No   \n",
       "3826  3213-VVOLG  2020-02-01      No  Two year               No   \n",
       "4380  2520-SGTTA  2020-02-01      No  Two year               No   \n",
       "5218  2923-ARZLG  2020-02-01      No  One year              Yes   \n",
       "1340  1371-DWPAZ  2020-02-01      No  Two year               No   \n",
       "\n",
       "                  PaymentMethod  MonthlyCharges TotalCharges  \n",
       "936                Mailed check           80.85               \n",
       "6670               Mailed check           73.35               \n",
       "488   Bank transfer (automatic)           52.55               \n",
       "3331               Mailed check           19.85               \n",
       "6754  Bank transfer (automatic)           61.90               \n",
       "753                Mailed check           20.25               \n",
       "1082               Mailed check           25.75               \n",
       "3826               Mailed check           25.35               \n",
       "4380               Mailed check           20.00               \n",
       "5218               Mailed check           19.70               \n",
       "1340    Credit card (automatic)           56.05               "
      ]
     },
     "execution_count": 312,
     "metadata": {},
     "output_type": "execute_result"
    }
   ],
   "source": [
    "df_contract[s_numeric.isna()].sample(11)"
   ]
  },
  {
   "cell_type": "markdown",
   "metadata": {},
   "source": [
    "<div class=\"alert alert-block alert-success\"> <b>Comentario del revisor</b> <a class=\"tocSkip\"></a><br> <b>Éxito</b> - El análisis exploratorio inicial es detallado, identificando tipos de datos, valores únicos y casos atípicos como registros con `TotalCharges` vacíos, lo que demuestra un enfoque minucioso hacia la calidad de los datos.</div>\n"
   ]
  },
  {
   "cell_type": "markdown",
   "metadata": {},
   "source": [
    "### Personal (dataset)"
   ]
  },
  {
   "cell_type": "code",
   "execution_count": 313,
   "metadata": {},
   "outputs": [
    {
     "name": "stdout",
     "output_type": "stream",
     "text": [
      "<class 'pandas.core.frame.DataFrame'>\n",
      "RangeIndex: 7043 entries, 0 to 7042\n",
      "Data columns (total 5 columns):\n",
      " #   Column         Non-Null Count  Dtype \n",
      "---  ------         --------------  ----- \n",
      " 0   customerID     7043 non-null   object\n",
      " 1   gender         7043 non-null   object\n",
      " 2   SeniorCitizen  7043 non-null   int64 \n",
      " 3   Partner        7043 non-null   object\n",
      " 4   Dependents     7043 non-null   object\n",
      "dtypes: int64(1), object(4)\n",
      "memory usage: 275.2+ KB\n"
     ]
    }
   ],
   "source": [
    "df_personal.info()"
   ]
  },
  {
   "cell_type": "code",
   "execution_count": 314,
   "metadata": {},
   "outputs": [
    {
     "data": {
      "text/html": [
       "<div>\n",
       "<style scoped>\n",
       "    .dataframe tbody tr th:only-of-type {\n",
       "        vertical-align: middle;\n",
       "    }\n",
       "\n",
       "    .dataframe tbody tr th {\n",
       "        vertical-align: top;\n",
       "    }\n",
       "\n",
       "    .dataframe thead th {\n",
       "        text-align: right;\n",
       "    }\n",
       "</style>\n",
       "<table border=\"1\" class=\"dataframe\">\n",
       "  <thead>\n",
       "    <tr style=\"text-align: right;\">\n",
       "      <th></th>\n",
       "      <th>customerID</th>\n",
       "      <th>gender</th>\n",
       "      <th>SeniorCitizen</th>\n",
       "      <th>Partner</th>\n",
       "      <th>Dependents</th>\n",
       "    </tr>\n",
       "  </thead>\n",
       "  <tbody>\n",
       "    <tr>\n",
       "      <th>475</th>\n",
       "      <td>2359-KMGLI</td>\n",
       "      <td>Male</td>\n",
       "      <td>0</td>\n",
       "      <td>No</td>\n",
       "      <td>No</td>\n",
       "    </tr>\n",
       "    <tr>\n",
       "      <th>6828</th>\n",
       "      <td>2005-DWQZJ</td>\n",
       "      <td>Female</td>\n",
       "      <td>0</td>\n",
       "      <td>Yes</td>\n",
       "      <td>Yes</td>\n",
       "    </tr>\n",
       "    <tr>\n",
       "      <th>3441</th>\n",
       "      <td>4086-ATNFV</td>\n",
       "      <td>Female</td>\n",
       "      <td>0</td>\n",
       "      <td>Yes</td>\n",
       "      <td>Yes</td>\n",
       "    </tr>\n",
       "    <tr>\n",
       "      <th>3478</th>\n",
       "      <td>7673-LPRNY</td>\n",
       "      <td>Female</td>\n",
       "      <td>0</td>\n",
       "      <td>No</td>\n",
       "      <td>No</td>\n",
       "    </tr>\n",
       "    <tr>\n",
       "      <th>638</th>\n",
       "      <td>4913-EHYUI</td>\n",
       "      <td>Male</td>\n",
       "      <td>1</td>\n",
       "      <td>Yes</td>\n",
       "      <td>Yes</td>\n",
       "    </tr>\n",
       "    <tr>\n",
       "      <th>2742</th>\n",
       "      <td>3948-KXDUF</td>\n",
       "      <td>Male</td>\n",
       "      <td>0</td>\n",
       "      <td>No</td>\n",
       "      <td>No</td>\n",
       "    </tr>\n",
       "    <tr>\n",
       "      <th>4978</th>\n",
       "      <td>4855-SNKMY</td>\n",
       "      <td>Female</td>\n",
       "      <td>0</td>\n",
       "      <td>No</td>\n",
       "      <td>No</td>\n",
       "    </tr>\n",
       "    <tr>\n",
       "      <th>7028</th>\n",
       "      <td>9281-CEDRU</td>\n",
       "      <td>Female</td>\n",
       "      <td>0</td>\n",
       "      <td>Yes</td>\n",
       "      <td>No</td>\n",
       "    </tr>\n",
       "    <tr>\n",
       "      <th>6109</th>\n",
       "      <td>8654-DHAOW</td>\n",
       "      <td>Female</td>\n",
       "      <td>0</td>\n",
       "      <td>No</td>\n",
       "      <td>No</td>\n",
       "    </tr>\n",
       "    <tr>\n",
       "      <th>3567</th>\n",
       "      <td>1670-SVOWZ</td>\n",
       "      <td>Female</td>\n",
       "      <td>0</td>\n",
       "      <td>Yes</td>\n",
       "      <td>Yes</td>\n",
       "    </tr>\n",
       "  </tbody>\n",
       "</table>\n",
       "</div>"
      ],
      "text/plain": [
       "      customerID  gender  SeniorCitizen Partner Dependents\n",
       "475   2359-KMGLI    Male              0      No         No\n",
       "6828  2005-DWQZJ  Female              0     Yes        Yes\n",
       "3441  4086-ATNFV  Female              0     Yes        Yes\n",
       "3478  7673-LPRNY  Female              0      No         No\n",
       "638   4913-EHYUI    Male              1     Yes        Yes\n",
       "2742  3948-KXDUF    Male              0      No         No\n",
       "4978  4855-SNKMY  Female              0      No         No\n",
       "7028  9281-CEDRU  Female              0     Yes         No\n",
       "6109  8654-DHAOW  Female              0      No         No\n",
       "3567  1670-SVOWZ  Female              0     Yes        Yes"
      ]
     },
     "execution_count": 314,
     "metadata": {},
     "output_type": "execute_result"
    }
   ],
   "source": [
    "df_personal.sample(10)"
   ]
  },
  {
   "cell_type": "code",
   "execution_count": 315,
   "metadata": {},
   "outputs": [
    {
     "name": "stdout",
     "output_type": "stream",
     "text": [
      "<class 'pandas.core.frame.DataFrame'>\n",
      "Int64Index: 7043 entries, 0 to 7042\n",
      "Data columns (total 5 columns):\n",
      " #   Column         Non-Null Count  Dtype \n",
      "---  ------         --------------  ----- \n",
      " 0   customerID     7043 non-null   object\n",
      " 1   gender         7043 non-null   object\n",
      " 2   SeniorCitizen  7043 non-null   int64 \n",
      " 3   Partner        7043 non-null   object\n",
      " 4   Dependents     7043 non-null   object\n",
      "dtypes: int64(1), object(4)\n",
      "memory usage: 330.1+ KB\n"
     ]
    }
   ],
   "source": [
    "df_personal.drop_duplicates().info()"
   ]
  },
  {
   "cell_type": "code",
   "execution_count": 316,
   "metadata": {},
   "outputs": [
    {
     "name": "stdout",
     "output_type": "stream",
     "text": [
      "customerIDs que aparecen más de una vez: []\n",
      "------------------------------\n"
     ]
    }
   ],
   "source": [
    "analizaDatosLlave(df_personal)"
   ]
  },
  {
   "cell_type": "markdown",
   "metadata": {},
   "source": [
    "<div class=\"alert alert-block alert-success\"> <b>Comentario del revisor</b> <a class=\"tocSkip\"></a><br> <b>Éxito</b> - Revisión correcta del dataset personal, confirmando integridad de registros y ausencia de duplicados en las llaves primarias.</div>\n"
   ]
  },
  {
   "cell_type": "markdown",
   "metadata": {},
   "source": [
    "### Internet (dataset)"
   ]
  },
  {
   "cell_type": "code",
   "execution_count": 317,
   "metadata": {},
   "outputs": [
    {
     "name": "stdout",
     "output_type": "stream",
     "text": [
      "<class 'pandas.core.frame.DataFrame'>\n",
      "RangeIndex: 5517 entries, 0 to 5516\n",
      "Data columns (total 8 columns):\n",
      " #   Column            Non-Null Count  Dtype \n",
      "---  ------            --------------  ----- \n",
      " 0   customerID        5517 non-null   object\n",
      " 1   InternetService   5517 non-null   object\n",
      " 2   OnlineSecurity    5517 non-null   object\n",
      " 3   OnlineBackup      5517 non-null   object\n",
      " 4   DeviceProtection  5517 non-null   object\n",
      " 5   TechSupport       5517 non-null   object\n",
      " 6   StreamingTV       5517 non-null   object\n",
      " 7   StreamingMovies   5517 non-null   object\n",
      "dtypes: object(8)\n",
      "memory usage: 344.9+ KB\n"
     ]
    }
   ],
   "source": [
    "df_internet.info()"
   ]
  },
  {
   "cell_type": "code",
   "execution_count": 318,
   "metadata": {},
   "outputs": [
    {
     "data": {
      "text/html": [
       "<div>\n",
       "<style scoped>\n",
       "    .dataframe tbody tr th:only-of-type {\n",
       "        vertical-align: middle;\n",
       "    }\n",
       "\n",
       "    .dataframe tbody tr th {\n",
       "        vertical-align: top;\n",
       "    }\n",
       "\n",
       "    .dataframe thead th {\n",
       "        text-align: right;\n",
       "    }\n",
       "</style>\n",
       "<table border=\"1\" class=\"dataframe\">\n",
       "  <thead>\n",
       "    <tr style=\"text-align: right;\">\n",
       "      <th></th>\n",
       "      <th>customerID</th>\n",
       "      <th>InternetService</th>\n",
       "      <th>OnlineSecurity</th>\n",
       "      <th>OnlineBackup</th>\n",
       "      <th>DeviceProtection</th>\n",
       "      <th>TechSupport</th>\n",
       "      <th>StreamingTV</th>\n",
       "      <th>StreamingMovies</th>\n",
       "    </tr>\n",
       "  </thead>\n",
       "  <tbody>\n",
       "    <tr>\n",
       "      <th>2461</th>\n",
       "      <td>4236-XPXAV</td>\n",
       "      <td>Fiber optic</td>\n",
       "      <td>No</td>\n",
       "      <td>Yes</td>\n",
       "      <td>No</td>\n",
       "      <td>Yes</td>\n",
       "      <td>Yes</td>\n",
       "      <td>Yes</td>\n",
       "    </tr>\n",
       "    <tr>\n",
       "      <th>3645</th>\n",
       "      <td>6402-ZFPPI</td>\n",
       "      <td>Fiber optic</td>\n",
       "      <td>Yes</td>\n",
       "      <td>Yes</td>\n",
       "      <td>No</td>\n",
       "      <td>No</td>\n",
       "      <td>Yes</td>\n",
       "      <td>Yes</td>\n",
       "    </tr>\n",
       "    <tr>\n",
       "      <th>475</th>\n",
       "      <td>0742-LAFQK</td>\n",
       "      <td>Fiber optic</td>\n",
       "      <td>Yes</td>\n",
       "      <td>Yes</td>\n",
       "      <td>Yes</td>\n",
       "      <td>No</td>\n",
       "      <td>No</td>\n",
       "      <td>Yes</td>\n",
       "    </tr>\n",
       "    <tr>\n",
       "      <th>3938</th>\n",
       "      <td>8149-AIQCG</td>\n",
       "      <td>Fiber optic</td>\n",
       "      <td>No</td>\n",
       "      <td>No</td>\n",
       "      <td>No</td>\n",
       "      <td>No</td>\n",
       "      <td>No</td>\n",
       "      <td>No</td>\n",
       "    </tr>\n",
       "    <tr>\n",
       "      <th>4243</th>\n",
       "      <td>7929-SKFGK</td>\n",
       "      <td>Fiber optic</td>\n",
       "      <td>Yes</td>\n",
       "      <td>Yes</td>\n",
       "      <td>Yes</td>\n",
       "      <td>Yes</td>\n",
       "      <td>Yes</td>\n",
       "      <td>Yes</td>\n",
       "    </tr>\n",
       "    <tr>\n",
       "      <th>5257</th>\n",
       "      <td>0749-IRGQE</td>\n",
       "      <td>DSL</td>\n",
       "      <td>No</td>\n",
       "      <td>No</td>\n",
       "      <td>No</td>\n",
       "      <td>No</td>\n",
       "      <td>Yes</td>\n",
       "      <td>Yes</td>\n",
       "    </tr>\n",
       "    <tr>\n",
       "      <th>1676</th>\n",
       "      <td>1163-ONYEY</td>\n",
       "      <td>DSL</td>\n",
       "      <td>Yes</td>\n",
       "      <td>Yes</td>\n",
       "      <td>Yes</td>\n",
       "      <td>No</td>\n",
       "      <td>Yes</td>\n",
       "      <td>No</td>\n",
       "    </tr>\n",
       "    <tr>\n",
       "      <th>4564</th>\n",
       "      <td>2905-KFQUV</td>\n",
       "      <td>Fiber optic</td>\n",
       "      <td>No</td>\n",
       "      <td>No</td>\n",
       "      <td>No</td>\n",
       "      <td>No</td>\n",
       "      <td>No</td>\n",
       "      <td>No</td>\n",
       "    </tr>\n",
       "    <tr>\n",
       "      <th>1389</th>\n",
       "      <td>6950-TWMYB</td>\n",
       "      <td>Fiber optic</td>\n",
       "      <td>No</td>\n",
       "      <td>Yes</td>\n",
       "      <td>No</td>\n",
       "      <td>Yes</td>\n",
       "      <td>No</td>\n",
       "      <td>No</td>\n",
       "    </tr>\n",
       "    <tr>\n",
       "      <th>4257</th>\n",
       "      <td>7246-ZGQDF</td>\n",
       "      <td>DSL</td>\n",
       "      <td>Yes</td>\n",
       "      <td>No</td>\n",
       "      <td>No</td>\n",
       "      <td>Yes</td>\n",
       "      <td>No</td>\n",
       "      <td>No</td>\n",
       "    </tr>\n",
       "  </tbody>\n",
       "</table>\n",
       "</div>"
      ],
      "text/plain": [
       "      customerID InternetService OnlineSecurity OnlineBackup DeviceProtection  \\\n",
       "2461  4236-XPXAV     Fiber optic             No          Yes               No   \n",
       "3645  6402-ZFPPI     Fiber optic            Yes          Yes               No   \n",
       "475   0742-LAFQK     Fiber optic            Yes          Yes              Yes   \n",
       "3938  8149-AIQCG     Fiber optic             No           No               No   \n",
       "4243  7929-SKFGK     Fiber optic            Yes          Yes              Yes   \n",
       "5257  0749-IRGQE             DSL             No           No               No   \n",
       "1676  1163-ONYEY             DSL            Yes          Yes              Yes   \n",
       "4564  2905-KFQUV     Fiber optic             No           No               No   \n",
       "1389  6950-TWMYB     Fiber optic             No          Yes               No   \n",
       "4257  7246-ZGQDF             DSL            Yes           No               No   \n",
       "\n",
       "     TechSupport StreamingTV StreamingMovies  \n",
       "2461         Yes         Yes             Yes  \n",
       "3645          No         Yes             Yes  \n",
       "475           No          No             Yes  \n",
       "3938          No          No              No  \n",
       "4243         Yes         Yes             Yes  \n",
       "5257          No         Yes             Yes  \n",
       "1676          No         Yes              No  \n",
       "4564          No          No              No  \n",
       "1389         Yes          No              No  \n",
       "4257         Yes          No              No  "
      ]
     },
     "execution_count": 318,
     "metadata": {},
     "output_type": "execute_result"
    }
   ],
   "source": [
    "df_internet.sample(10)"
   ]
  },
  {
   "cell_type": "code",
   "execution_count": 319,
   "metadata": {},
   "outputs": [
    {
     "name": "stdout",
     "output_type": "stream",
     "text": [
      "customerIDs que aparecen más de una vez: []\n",
      "------------------------------\n"
     ]
    }
   ],
   "source": [
    "analizaDatosLlave(df_internet)"
   ]
  },
  {
   "cell_type": "code",
   "execution_count": 320,
   "metadata": {},
   "outputs": [
    {
     "data": {
      "text/plain": [
       "array(['DSL', 'Fiber optic'], dtype=object)"
      ]
     },
     "execution_count": 320,
     "metadata": {},
     "output_type": "execute_result"
    }
   ],
   "source": [
    "df_internet[\"InternetService\"].unique()"
   ]
  },
  {
   "cell_type": "markdown",
   "metadata": {},
   "source": [
    "<div class=\"alert alert-block alert-success\"> <b>Comentario del revisor</b> <a class=\"tocSkip\"></a><br> <b>Éxito</b> - Análisis claro del dataset de internet, verificando unicidad de claves y distribución de tipos de servicio, lo que prepara bien el terreno para integraciones posteriores.</div>\n"
   ]
  },
  {
   "cell_type": "markdown",
   "metadata": {},
   "source": [
    "### Phone (dataset)"
   ]
  },
  {
   "cell_type": "code",
   "execution_count": 321,
   "metadata": {},
   "outputs": [
    {
     "name": "stdout",
     "output_type": "stream",
     "text": [
      "<class 'pandas.core.frame.DataFrame'>\n",
      "RangeIndex: 6361 entries, 0 to 6360\n",
      "Data columns (total 2 columns):\n",
      " #   Column         Non-Null Count  Dtype \n",
      "---  ------         --------------  ----- \n",
      " 0   customerID     6361 non-null   object\n",
      " 1   MultipleLines  6361 non-null   object\n",
      "dtypes: object(2)\n",
      "memory usage: 99.5+ KB\n"
     ]
    }
   ],
   "source": [
    "df_phone.info()"
   ]
  },
  {
   "cell_type": "code",
   "execution_count": 322,
   "metadata": {},
   "outputs": [
    {
     "data": {
      "text/html": [
       "<div>\n",
       "<style scoped>\n",
       "    .dataframe tbody tr th:only-of-type {\n",
       "        vertical-align: middle;\n",
       "    }\n",
       "\n",
       "    .dataframe tbody tr th {\n",
       "        vertical-align: top;\n",
       "    }\n",
       "\n",
       "    .dataframe thead th {\n",
       "        text-align: right;\n",
       "    }\n",
       "</style>\n",
       "<table border=\"1\" class=\"dataframe\">\n",
       "  <thead>\n",
       "    <tr style=\"text-align: right;\">\n",
       "      <th></th>\n",
       "      <th>customerID</th>\n",
       "      <th>MultipleLines</th>\n",
       "    </tr>\n",
       "  </thead>\n",
       "  <tbody>\n",
       "    <tr>\n",
       "      <th>1693</th>\n",
       "      <td>4510-PYUSH</td>\n",
       "      <td>No</td>\n",
       "    </tr>\n",
       "    <tr>\n",
       "      <th>3975</th>\n",
       "      <td>7691-XVTZH</td>\n",
       "      <td>Yes</td>\n",
       "    </tr>\n",
       "    <tr>\n",
       "      <th>1389</th>\n",
       "      <td>8096-LOIST</td>\n",
       "      <td>No</td>\n",
       "    </tr>\n",
       "    <tr>\n",
       "      <th>439</th>\n",
       "      <td>0388-EOPEX</td>\n",
       "      <td>No</td>\n",
       "    </tr>\n",
       "    <tr>\n",
       "      <th>4869</th>\n",
       "      <td>2786-GCDPI</td>\n",
       "      <td>Yes</td>\n",
       "    </tr>\n",
       "    <tr>\n",
       "      <th>5842</th>\n",
       "      <td>9529-OFXHY</td>\n",
       "      <td>Yes</td>\n",
       "    </tr>\n",
       "    <tr>\n",
       "      <th>5461</th>\n",
       "      <td>3752-CQSJI</td>\n",
       "      <td>No</td>\n",
       "    </tr>\n",
       "    <tr>\n",
       "      <th>4247</th>\n",
       "      <td>8082-GHXOP</td>\n",
       "      <td>No</td>\n",
       "    </tr>\n",
       "    <tr>\n",
       "      <th>4628</th>\n",
       "      <td>9070-BCKQP</td>\n",
       "      <td>Yes</td>\n",
       "    </tr>\n",
       "    <tr>\n",
       "      <th>431</th>\n",
       "      <td>5168-MQQCA</td>\n",
       "      <td>Yes</td>\n",
       "    </tr>\n",
       "  </tbody>\n",
       "</table>\n",
       "</div>"
      ],
      "text/plain": [
       "      customerID MultipleLines\n",
       "1693  4510-PYUSH            No\n",
       "3975  7691-XVTZH           Yes\n",
       "1389  8096-LOIST            No\n",
       "439   0388-EOPEX            No\n",
       "4869  2786-GCDPI           Yes\n",
       "5842  9529-OFXHY           Yes\n",
       "5461  3752-CQSJI            No\n",
       "4247  8082-GHXOP            No\n",
       "4628  9070-BCKQP           Yes\n",
       "431   5168-MQQCA           Yes"
      ]
     },
     "execution_count": 322,
     "metadata": {},
     "output_type": "execute_result"
    }
   ],
   "source": [
    "df_phone.sample(10)"
   ]
  },
  {
   "cell_type": "code",
   "execution_count": 323,
   "metadata": {},
   "outputs": [
    {
     "data": {
      "text/plain": [
       "array(['No', 'Yes'], dtype=object)"
      ]
     },
     "execution_count": 323,
     "metadata": {},
     "output_type": "execute_result"
    }
   ],
   "source": [
    "df_phone[\"MultipleLines\"].unique()"
   ]
  },
  {
   "cell_type": "code",
   "execution_count": 324,
   "metadata": {},
   "outputs": [
    {
     "name": "stdout",
     "output_type": "stream",
     "text": [
      "customerIDs que aparecen más de una vez: []\n",
      "------------------------------\n"
     ]
    }
   ],
   "source": [
    "analizaDatosLlave(df_phone)"
   ]
  },
  {
   "cell_type": "markdown",
   "metadata": {},
   "source": [
    "<div class=\"alert alert-block alert-success\"> <b>Comentario del revisor</b> <a class=\"tocSkip\"></a><br> <b>Éxito</b> - Correcta validación de la estructura y valores del dataset telefónico, confirmando que las llaves son únicas y que la variable categórica está bien definida.</div>\n"
   ]
  },
  {
   "cell_type": "markdown",
   "metadata": {},
   "source": [
    "## Entendiendo los datos y el problema"
   ]
  },
  {
   "cell_type": "markdown",
   "metadata": {},
   "source": [
    "En cuanto al problema, se entiende que a partir de los datos muestra, se busca anticiparse a que un cliente cancele. \n",
    "\n",
    "Algunos asumptions a aclarar con el equipo:\n",
    "- Se manejará como variable objetivo la variable enddate del dataset contract\n",
    "- En caso de que esta tenga un valor indica que el cliente ya ha cancelado\n",
    "- El objetivo seria poder estimar la cancelacion de los clientes para poder cambiar su situacion y poder retenerlo\n",
    "- Se descartará la fecha del 2020-02-01. Aplicable a cualquiera de las caracteristicas (BeginDate, EndDate) resulta en mantener un minimo de datos lo que no apoyaría al modelo.\n",
    "\n",
    "Algunos comentarios a partir del EDA ya que es necesario realizar un preprocesamiento de datos:\n",
    "- Se deberá incluir el manejo de variables categoricas y la normalización de datos\n",
    "- Se debe determinar si se descartan datos pues habrá datos nulos al relacionar la información\n",
    "\n",
    "\n",
    "De lo anterior se sugieren las siguientes fases con los datos como plan de trabajo:"
   ]
  },
  {
   "cell_type": "markdown",
   "metadata": {},
   "source": [
    "## Preprocesamiento de datos"
   ]
  },
  {
   "cell_type": "markdown",
   "metadata": {},
   "source": [
    "### Tratamiento de dataset Contract"
   ]
  },
  {
   "cell_type": "code",
   "execution_count": 325,
   "metadata": {},
   "outputs": [],
   "source": [
    "df_temp = df_contract.rename(columns={\n",
    "        'customerID': 'customer_id', \n",
    "        'BeginDate': 'begin_date', \n",
    "        'EndDate': 'end_date', \n",
    "        'Type': 'type', \n",
    "        'PaperlessBilling': 'paperless_billing',\n",
    "        'PaymentMethod': 'payment_method',\n",
    "        'MonthlyCharges': 'monthly_charges',\n",
    "        'TotalCharges': 'total_charges'\n",
    "    })"
   ]
  },
  {
   "cell_type": "code",
   "execution_count": 326,
   "metadata": {},
   "outputs": [],
   "source": [
    "df_temp['paperless_billing'] = pd.to_numeric(df_temp['paperless_billing'].replace({'Yes': 1, 'No': 0}), downcast=\"unsigned\")\n",
    "df_temp[\"monthly_charges\"] = pd.to_numeric(df_temp[\"monthly_charges\"], downcast=\"float\")\n",
    "df_temp['total_charges'] = pd.to_numeric(df_temp['total_charges'], errors=\"coerce\", downcast=\"float\")"
   ]
  },
  {
   "cell_type": "code",
   "execution_count": 327,
   "metadata": {},
   "outputs": [],
   "source": [
    "df_temp[\"total_charges\"] = df_temp[\"total_charges\"].fillna(0)"
   ]
  },
  {
   "cell_type": "code",
   "execution_count": 328,
   "metadata": {},
   "outputs": [
    {
     "data": {
      "text/html": [
       "<div>\n",
       "<style scoped>\n",
       "    .dataframe tbody tr th:only-of-type {\n",
       "        vertical-align: middle;\n",
       "    }\n",
       "\n",
       "    .dataframe tbody tr th {\n",
       "        vertical-align: top;\n",
       "    }\n",
       "\n",
       "    .dataframe thead th {\n",
       "        text-align: right;\n",
       "    }\n",
       "</style>\n",
       "<table border=\"1\" class=\"dataframe\">\n",
       "  <thead>\n",
       "    <tr style=\"text-align: right;\">\n",
       "      <th></th>\n",
       "      <th>customer_id</th>\n",
       "      <th>begin_date</th>\n",
       "      <th>end_date</th>\n",
       "      <th>type</th>\n",
       "      <th>paperless_billing</th>\n",
       "      <th>payment_method</th>\n",
       "      <th>monthly_charges</th>\n",
       "      <th>total_charges</th>\n",
       "    </tr>\n",
       "  </thead>\n",
       "  <tbody>\n",
       "    <tr>\n",
       "      <th>0</th>\n",
       "      <td>7590-VHVEG</td>\n",
       "      <td>2020-01-01</td>\n",
       "      <td>No</td>\n",
       "      <td>Month-to-month</td>\n",
       "      <td>1</td>\n",
       "      <td>Electronic check</td>\n",
       "      <td>29.850000</td>\n",
       "      <td>29.850000</td>\n",
       "    </tr>\n",
       "    <tr>\n",
       "      <th>1</th>\n",
       "      <td>5575-GNVDE</td>\n",
       "      <td>2017-04-01</td>\n",
       "      <td>No</td>\n",
       "      <td>One year</td>\n",
       "      <td>0</td>\n",
       "      <td>Mailed check</td>\n",
       "      <td>56.950001</td>\n",
       "      <td>1889.500000</td>\n",
       "    </tr>\n",
       "    <tr>\n",
       "      <th>3</th>\n",
       "      <td>7795-CFOCW</td>\n",
       "      <td>2016-05-01</td>\n",
       "      <td>No</td>\n",
       "      <td>One year</td>\n",
       "      <td>0</td>\n",
       "      <td>Bank transfer (automatic)</td>\n",
       "      <td>42.299999</td>\n",
       "      <td>1840.750000</td>\n",
       "    </tr>\n",
       "    <tr>\n",
       "      <th>6</th>\n",
       "      <td>1452-KIOVK</td>\n",
       "      <td>2018-04-01</td>\n",
       "      <td>No</td>\n",
       "      <td>Month-to-month</td>\n",
       "      <td>1</td>\n",
       "      <td>Credit card (automatic)</td>\n",
       "      <td>89.099998</td>\n",
       "      <td>1949.400024</td>\n",
       "    </tr>\n",
       "    <tr>\n",
       "      <th>7</th>\n",
       "      <td>6713-OKOMC</td>\n",
       "      <td>2019-04-01</td>\n",
       "      <td>No</td>\n",
       "      <td>Month-to-month</td>\n",
       "      <td>0</td>\n",
       "      <td>Mailed check</td>\n",
       "      <td>29.750000</td>\n",
       "      <td>301.899994</td>\n",
       "    </tr>\n",
       "  </tbody>\n",
       "</table>\n",
       "</div>"
      ],
      "text/plain": [
       "  customer_id  begin_date end_date            type  paperless_billing  \\\n",
       "0  7590-VHVEG  2020-01-01       No  Month-to-month                  1   \n",
       "1  5575-GNVDE  2017-04-01       No        One year                  0   \n",
       "3  7795-CFOCW  2016-05-01       No        One year                  0   \n",
       "6  1452-KIOVK  2018-04-01       No  Month-to-month                  1   \n",
       "7  6713-OKOMC  2019-04-01       No  Month-to-month                  0   \n",
       "\n",
       "              payment_method  monthly_charges  total_charges  \n",
       "0           Electronic check        29.850000      29.850000  \n",
       "1               Mailed check        56.950001    1889.500000  \n",
       "3  Bank transfer (automatic)        42.299999    1840.750000  \n",
       "6    Credit card (automatic)        89.099998    1949.400024  \n",
       "7               Mailed check        29.750000     301.899994  "
      ]
     },
     "execution_count": 328,
     "metadata": {},
     "output_type": "execute_result"
    }
   ],
   "source": [
    "df_temp[df_temp[\"end_date\"] == 'No'].head()"
   ]
  },
  {
   "cell_type": "code",
   "execution_count": 329,
   "metadata": {},
   "outputs": [],
   "source": [
    "df_temp[\"ceased_customer\"] = pd.to_numeric((df_temp[\"end_date\"]!='No').astype(int), downcast=\"unsigned\")"
   ]
  },
  {
   "cell_type": "code",
   "execution_count": 330,
   "metadata": {},
   "outputs": [
    {
     "data": {
      "text/html": [
       "<div>\n",
       "<style scoped>\n",
       "    .dataframe tbody tr th:only-of-type {\n",
       "        vertical-align: middle;\n",
       "    }\n",
       "\n",
       "    .dataframe tbody tr th {\n",
       "        vertical-align: top;\n",
       "    }\n",
       "\n",
       "    .dataframe thead th {\n",
       "        text-align: right;\n",
       "    }\n",
       "</style>\n",
       "<table border=\"1\" class=\"dataframe\">\n",
       "  <thead>\n",
       "    <tr style=\"text-align: right;\">\n",
       "      <th></th>\n",
       "      <th>customer_id</th>\n",
       "      <th>begin_date</th>\n",
       "      <th>end_date</th>\n",
       "      <th>type</th>\n",
       "      <th>paperless_billing</th>\n",
       "      <th>payment_method</th>\n",
       "      <th>monthly_charges</th>\n",
       "      <th>total_charges</th>\n",
       "      <th>ceased_customer</th>\n",
       "    </tr>\n",
       "  </thead>\n",
       "  <tbody>\n",
       "    <tr>\n",
       "      <th>0</th>\n",
       "      <td>7590-VHVEG</td>\n",
       "      <td>2020-01-01</td>\n",
       "      <td>No</td>\n",
       "      <td>Month-to-month</td>\n",
       "      <td>1</td>\n",
       "      <td>Electronic check</td>\n",
       "      <td>29.850000</td>\n",
       "      <td>29.850000</td>\n",
       "      <td>0</td>\n",
       "    </tr>\n",
       "    <tr>\n",
       "      <th>1</th>\n",
       "      <td>5575-GNVDE</td>\n",
       "      <td>2017-04-01</td>\n",
       "      <td>No</td>\n",
       "      <td>One year</td>\n",
       "      <td>0</td>\n",
       "      <td>Mailed check</td>\n",
       "      <td>56.950001</td>\n",
       "      <td>1889.500000</td>\n",
       "      <td>0</td>\n",
       "    </tr>\n",
       "    <tr>\n",
       "      <th>2</th>\n",
       "      <td>3668-QPYBK</td>\n",
       "      <td>2019-10-01</td>\n",
       "      <td>2019-12-01 00:00:00</td>\n",
       "      <td>Month-to-month</td>\n",
       "      <td>1</td>\n",
       "      <td>Mailed check</td>\n",
       "      <td>53.849998</td>\n",
       "      <td>108.150002</td>\n",
       "      <td>1</td>\n",
       "    </tr>\n",
       "    <tr>\n",
       "      <th>3</th>\n",
       "      <td>7795-CFOCW</td>\n",
       "      <td>2016-05-01</td>\n",
       "      <td>No</td>\n",
       "      <td>One year</td>\n",
       "      <td>0</td>\n",
       "      <td>Bank transfer (automatic)</td>\n",
       "      <td>42.299999</td>\n",
       "      <td>1840.750000</td>\n",
       "      <td>0</td>\n",
       "    </tr>\n",
       "    <tr>\n",
       "      <th>4</th>\n",
       "      <td>9237-HQITU</td>\n",
       "      <td>2019-09-01</td>\n",
       "      <td>2019-11-01 00:00:00</td>\n",
       "      <td>Month-to-month</td>\n",
       "      <td>1</td>\n",
       "      <td>Electronic check</td>\n",
       "      <td>70.699997</td>\n",
       "      <td>151.649994</td>\n",
       "      <td>1</td>\n",
       "    </tr>\n",
       "  </tbody>\n",
       "</table>\n",
       "</div>"
      ],
      "text/plain": [
       "  customer_id  begin_date             end_date            type  \\\n",
       "0  7590-VHVEG  2020-01-01                   No  Month-to-month   \n",
       "1  5575-GNVDE  2017-04-01                   No        One year   \n",
       "2  3668-QPYBK  2019-10-01  2019-12-01 00:00:00  Month-to-month   \n",
       "3  7795-CFOCW  2016-05-01                   No        One year   \n",
       "4  9237-HQITU  2019-09-01  2019-11-01 00:00:00  Month-to-month   \n",
       "\n",
       "   paperless_billing             payment_method  monthly_charges  \\\n",
       "0                  1           Electronic check        29.850000   \n",
       "1                  0               Mailed check        56.950001   \n",
       "2                  1               Mailed check        53.849998   \n",
       "3                  0  Bank transfer (automatic)        42.299999   \n",
       "4                  1           Electronic check        70.699997   \n",
       "\n",
       "   total_charges  ceased_customer  \n",
       "0      29.850000                0  \n",
       "1    1889.500000                0  \n",
       "2     108.150002                1  \n",
       "3    1840.750000                0  \n",
       "4     151.649994                1  "
      ]
     },
     "execution_count": 330,
     "metadata": {},
     "output_type": "execute_result"
    }
   ],
   "source": [
    "df_temp.head()"
   ]
  },
  {
   "cell_type": "code",
   "execution_count": 331,
   "metadata": {},
   "outputs": [],
   "source": [
    "df_temp = df_temp.drop([\"begin_date\", \"end_date\"], axis = 1)"
   ]
  },
  {
   "cell_type": "code",
   "execution_count": 332,
   "metadata": {},
   "outputs": [
    {
     "name": "stdout",
     "output_type": "stream",
     "text": [
      "<class 'pandas.core.frame.DataFrame'>\n",
      "RangeIndex: 7043 entries, 0 to 7042\n",
      "Data columns (total 7 columns):\n",
      " #   Column             Non-Null Count  Dtype  \n",
      "---  ------             --------------  -----  \n",
      " 0   customer_id        7043 non-null   object \n",
      " 1   type               7043 non-null   object \n",
      " 2   paperless_billing  7043 non-null   uint8  \n",
      " 3   payment_method     7043 non-null   object \n",
      " 4   monthly_charges    7043 non-null   float32\n",
      " 5   total_charges      7043 non-null   float32\n",
      " 6   ceased_customer    7043 non-null   uint8  \n",
      "dtypes: float32(2), object(3), uint8(2)\n",
      "memory usage: 234.0+ KB\n"
     ]
    }
   ],
   "source": [
    "df_temp.info()"
   ]
  },
  {
   "cell_type": "markdown",
   "metadata": {},
   "source": [
    "<div class=\"alert alert-block alert-success\"> <b>Comentario del revisor</b> <a class=\"tocSkip\"></a><br> <b>Éxito</b> - Excelente planteamiento del problema y preprocesamiento inicial, creando la variable objetivo y dejando un dataset limpio y coherente para el modelado.</div>\n"
   ]
  },
  {
   "cell_type": "markdown",
   "metadata": {},
   "source": [
    "### Tratamiento de dataset Personal"
   ]
  },
  {
   "cell_type": "code",
   "execution_count": 333,
   "metadata": {},
   "outputs": [],
   "source": [
    "df_merged = pd.merge(df_temp, df_personal, left_on='customer_id', right_on='customerID', how='left', copy='False')"
   ]
  },
  {
   "cell_type": "code",
   "execution_count": 334,
   "metadata": {},
   "outputs": [
    {
     "name": "stdout",
     "output_type": "stream",
     "text": [
      "<class 'pandas.core.frame.DataFrame'>\n",
      "Int64Index: 7043 entries, 0 to 7042\n",
      "Data columns (total 12 columns):\n",
      " #   Column             Non-Null Count  Dtype  \n",
      "---  ------             --------------  -----  \n",
      " 0   customer_id        7043 non-null   object \n",
      " 1   type               7043 non-null   object \n",
      " 2   paperless_billing  7043 non-null   uint8  \n",
      " 3   payment_method     7043 non-null   object \n",
      " 4   monthly_charges    7043 non-null   float32\n",
      " 5   total_charges      7043 non-null   float32\n",
      " 6   ceased_customer    7043 non-null   uint8  \n",
      " 7   customerID         7043 non-null   object \n",
      " 8   gender             7043 non-null   object \n",
      " 9   SeniorCitizen      7043 non-null   int64  \n",
      " 10  Partner            7043 non-null   object \n",
      " 11  Dependents         7043 non-null   object \n",
      "dtypes: float32(2), int64(1), object(7), uint8(2)\n",
      "memory usage: 564.0+ KB\n"
     ]
    }
   ],
   "source": [
    "df_merged.info()"
   ]
  },
  {
   "cell_type": "code",
   "execution_count": 335,
   "metadata": {},
   "outputs": [],
   "source": [
    "df_temp = df_merged.rename(\n",
    "    columns={\n",
    "        'SeniorCitizen': 'senior_citizen', \n",
    "        'Partner': 'partner', \n",
    "        'Dependents': 'dependents'\n",
    "    })"
   ]
  },
  {
   "cell_type": "code",
   "execution_count": 336,
   "metadata": {},
   "outputs": [],
   "source": [
    "df_temp = df_temp.drop([\"customerID\"], axis = 1)"
   ]
  },
  {
   "cell_type": "code",
   "execution_count": 337,
   "metadata": {},
   "outputs": [],
   "source": [
    "df_temp['senior_citizen'] = pd.to_numeric(df_temp['senior_citizen'], downcast=\"unsigned\")\n",
    "df_temp['partner'] = pd.to_numeric(df_temp['partner'].replace({'Yes': 1, 'No': 0}), downcast=\"unsigned\")\n",
    "df_temp['dependents'] = pd.to_numeric(df_temp['dependents'].replace({'Yes': 1, 'No': 0}), downcast=\"unsigned\")\n",
    "df_temp['gender'] = pd.to_numeric(df_temp['gender'].replace({'Male': 1, 'Female': 0}), downcast=\"unsigned\")"
   ]
  },
  {
   "cell_type": "code",
   "execution_count": 338,
   "metadata": {},
   "outputs": [
    {
     "name": "stdout",
     "output_type": "stream",
     "text": [
      "<class 'pandas.core.frame.DataFrame'>\n",
      "Int64Index: 7043 entries, 0 to 7042\n",
      "Data columns (total 11 columns):\n",
      " #   Column             Non-Null Count  Dtype  \n",
      "---  ------             --------------  -----  \n",
      " 0   customer_id        7043 non-null   object \n",
      " 1   type               7043 non-null   object \n",
      " 2   paperless_billing  7043 non-null   uint8  \n",
      " 3   payment_method     7043 non-null   object \n",
      " 4   monthly_charges    7043 non-null   float32\n",
      " 5   total_charges      7043 non-null   float32\n",
      " 6   ceased_customer    7043 non-null   uint8  \n",
      " 7   gender             7043 non-null   uint8  \n",
      " 8   senior_citizen     7043 non-null   uint8  \n",
      " 9   partner            7043 non-null   uint8  \n",
      " 10  dependents         7043 non-null   uint8  \n",
      "dtypes: float32(2), object(3), uint8(6)\n",
      "memory usage: 316.4+ KB\n"
     ]
    }
   ],
   "source": [
    "df_temp.info()"
   ]
  },
  {
   "cell_type": "code",
   "execution_count": 339,
   "metadata": {},
   "outputs": [
    {
     "data": {
      "text/html": [
       "<div>\n",
       "<style scoped>\n",
       "    .dataframe tbody tr th:only-of-type {\n",
       "        vertical-align: middle;\n",
       "    }\n",
       "\n",
       "    .dataframe tbody tr th {\n",
       "        vertical-align: top;\n",
       "    }\n",
       "\n",
       "    .dataframe thead th {\n",
       "        text-align: right;\n",
       "    }\n",
       "</style>\n",
       "<table border=\"1\" class=\"dataframe\">\n",
       "  <thead>\n",
       "    <tr style=\"text-align: right;\">\n",
       "      <th></th>\n",
       "      <th>paperless_billing</th>\n",
       "      <th>monthly_charges</th>\n",
       "      <th>total_charges</th>\n",
       "      <th>ceased_customer</th>\n",
       "      <th>gender</th>\n",
       "      <th>senior_citizen</th>\n",
       "      <th>partner</th>\n",
       "      <th>dependents</th>\n",
       "    </tr>\n",
       "  </thead>\n",
       "  <tbody>\n",
       "    <tr>\n",
       "      <th>count</th>\n",
       "      <td>7043.000000</td>\n",
       "      <td>7043.000000</td>\n",
       "      <td>7043.000000</td>\n",
       "      <td>7043.000000</td>\n",
       "      <td>7043.000000</td>\n",
       "      <td>7043.000000</td>\n",
       "      <td>7043.000000</td>\n",
       "      <td>7043.000000</td>\n",
       "    </tr>\n",
       "    <tr>\n",
       "      <th>mean</th>\n",
       "      <td>0.592219</td>\n",
       "      <td>64.761696</td>\n",
       "      <td>2279.734375</td>\n",
       "      <td>0.265370</td>\n",
       "      <td>0.504756</td>\n",
       "      <td>0.162147</td>\n",
       "      <td>0.483033</td>\n",
       "      <td>0.299588</td>\n",
       "    </tr>\n",
       "    <tr>\n",
       "      <th>std</th>\n",
       "      <td>0.491457</td>\n",
       "      <td>30.090048</td>\n",
       "      <td>2266.794434</td>\n",
       "      <td>0.441561</td>\n",
       "      <td>0.500013</td>\n",
       "      <td>0.368612</td>\n",
       "      <td>0.499748</td>\n",
       "      <td>0.458110</td>\n",
       "    </tr>\n",
       "    <tr>\n",
       "      <th>min</th>\n",
       "      <td>0.000000</td>\n",
       "      <td>18.250000</td>\n",
       "      <td>0.000000</td>\n",
       "      <td>0.000000</td>\n",
       "      <td>0.000000</td>\n",
       "      <td>0.000000</td>\n",
       "      <td>0.000000</td>\n",
       "      <td>0.000000</td>\n",
       "    </tr>\n",
       "    <tr>\n",
       "      <th>25%</th>\n",
       "      <td>0.000000</td>\n",
       "      <td>35.500000</td>\n",
       "      <td>398.549988</td>\n",
       "      <td>0.000000</td>\n",
       "      <td>0.000000</td>\n",
       "      <td>0.000000</td>\n",
       "      <td>0.000000</td>\n",
       "      <td>0.000000</td>\n",
       "    </tr>\n",
       "    <tr>\n",
       "      <th>50%</th>\n",
       "      <td>1.000000</td>\n",
       "      <td>70.349998</td>\n",
       "      <td>1394.550049</td>\n",
       "      <td>0.000000</td>\n",
       "      <td>1.000000</td>\n",
       "      <td>0.000000</td>\n",
       "      <td>0.000000</td>\n",
       "      <td>0.000000</td>\n",
       "    </tr>\n",
       "    <tr>\n",
       "      <th>75%</th>\n",
       "      <td>1.000000</td>\n",
       "      <td>89.849998</td>\n",
       "      <td>3786.599976</td>\n",
       "      <td>1.000000</td>\n",
       "      <td>1.000000</td>\n",
       "      <td>0.000000</td>\n",
       "      <td>1.000000</td>\n",
       "      <td>1.000000</td>\n",
       "    </tr>\n",
       "    <tr>\n",
       "      <th>max</th>\n",
       "      <td>1.000000</td>\n",
       "      <td>118.750000</td>\n",
       "      <td>8684.799805</td>\n",
       "      <td>1.000000</td>\n",
       "      <td>1.000000</td>\n",
       "      <td>1.000000</td>\n",
       "      <td>1.000000</td>\n",
       "      <td>1.000000</td>\n",
       "    </tr>\n",
       "  </tbody>\n",
       "</table>\n",
       "</div>"
      ],
      "text/plain": [
       "       paperless_billing  monthly_charges  total_charges  ceased_customer  \\\n",
       "count        7043.000000      7043.000000    7043.000000      7043.000000   \n",
       "mean            0.592219        64.761696    2279.734375         0.265370   \n",
       "std             0.491457        30.090048    2266.794434         0.441561   \n",
       "min             0.000000        18.250000       0.000000         0.000000   \n",
       "25%             0.000000        35.500000     398.549988         0.000000   \n",
       "50%             1.000000        70.349998    1394.550049         0.000000   \n",
       "75%             1.000000        89.849998    3786.599976         1.000000   \n",
       "max             1.000000       118.750000    8684.799805         1.000000   \n",
       "\n",
       "            gender  senior_citizen      partner   dependents  \n",
       "count  7043.000000     7043.000000  7043.000000  7043.000000  \n",
       "mean      0.504756        0.162147     0.483033     0.299588  \n",
       "std       0.500013        0.368612     0.499748     0.458110  \n",
       "min       0.000000        0.000000     0.000000     0.000000  \n",
       "25%       0.000000        0.000000     0.000000     0.000000  \n",
       "50%       1.000000        0.000000     0.000000     0.000000  \n",
       "75%       1.000000        0.000000     1.000000     1.000000  \n",
       "max       1.000000        1.000000     1.000000     1.000000  "
      ]
     },
     "execution_count": 339,
     "metadata": {},
     "output_type": "execute_result"
    }
   ],
   "source": [
    "df_temp.describe()"
   ]
  },
  {
   "cell_type": "markdown",
   "metadata": {},
   "source": [
    "<div class=\"alert alert-block alert-success\"> <b>Comentario del revisor</b> <a class=\"tocSkip\"></a><br> <b>Éxito</b> - Integración correcta del dataset personal con el contractual, aplicando transformaciones y codificaciones limpias que dejan las variables listas para el análisis y modelado.</div>\n"
   ]
  },
  {
   "cell_type": "markdown",
   "metadata": {},
   "source": [
    "### Tratamiento de dataset Internet"
   ]
  },
  {
   "cell_type": "code",
   "execution_count": 340,
   "metadata": {},
   "outputs": [],
   "source": [
    "df_merged = pd.merge(df_temp, df_internet, left_on='customer_id', right_on='customerID', how='left', copy='False')"
   ]
  },
  {
   "cell_type": "code",
   "execution_count": 341,
   "metadata": {},
   "outputs": [],
   "source": [
    "df_temp = df_merged.rename(\n",
    "    columns={\n",
    "        'InternetService': 'internet_service', \n",
    "        'OnlineSecurity': 'online_security', \n",
    "        'OnlineBackup': 'online_backup',\n",
    "        'DeviceProtection': 'device_protection',\n",
    "        'TechSupport': 'tech_support',\n",
    "        'StreamingTV': 'streaming_tv',\n",
    "        'StreamingMovies': 'streaming_movies'\n",
    "    })"
   ]
  },
  {
   "cell_type": "code",
   "execution_count": 342,
   "metadata": {},
   "outputs": [],
   "source": [
    "df_temp = df_temp.drop([\"customerID\"], axis=1)"
   ]
  },
  {
   "cell_type": "code",
   "execution_count": 343,
   "metadata": {},
   "outputs": [],
   "source": [
    "df_temp[\"internet_service\"] = df_temp[\"internet_service\"].fillna(\"none\") # Replace all NaN with \"none\"\n",
    "df_temp[\"online_security\"] = df_temp[\"online_security\"].fillna(0)\n",
    "df_temp[\"online_backup\"] = df_temp[\"online_backup\"].fillna(0)\n",
    "df_temp[\"device_protection\"] = df_temp[\"device_protection\"].fillna(0)\n",
    "df_temp[\"tech_support\"] = df_temp[\"tech_support\"].fillna(0)\n",
    "df_temp[\"streaming_tv\"] = df_temp[\"streaming_tv\"].fillna(0)\n",
    "df_temp[\"streaming_movies\"] = df_temp[\"streaming_movies\"].fillna(0)"
   ]
  },
  {
   "cell_type": "code",
   "execution_count": 344,
   "metadata": {},
   "outputs": [],
   "source": [
    "df_temp['online_security'] = pd.to_numeric(df_temp['online_security'].replace({'Yes': 1, 'No': 0}), downcast=\"unsigned\")\n",
    "df_temp['online_backup'] = pd.to_numeric(df_temp['online_backup'].replace({'Yes': 1, 'No': 0}), downcast=\"unsigned\")\n",
    "df_temp['device_protection'] = pd.to_numeric(df_temp['device_protection'].replace({'Yes': 1, 'No': 0}), downcast=\"unsigned\")\n",
    "df_temp['tech_support'] = pd.to_numeric(df_temp['tech_support'].replace({'Yes': 1, 'No': 0}), downcast=\"unsigned\")\n",
    "df_temp['streaming_tv'] = pd.to_numeric(df_temp['streaming_tv'].replace({'Yes': 1, 'No': 0}), downcast=\"unsigned\")\n",
    "df_temp['streaming_movies'] = pd.to_numeric(df_temp['streaming_movies'].replace({'Yes': 1, 'No': 0}), downcast=\"unsigned\")"
   ]
  },
  {
   "cell_type": "code",
   "execution_count": 345,
   "metadata": {},
   "outputs": [
    {
     "name": "stdout",
     "output_type": "stream",
     "text": [
      "<class 'pandas.core.frame.DataFrame'>\n",
      "Int64Index: 7043 entries, 0 to 7042\n",
      "Data columns (total 18 columns):\n",
      " #   Column             Non-Null Count  Dtype  \n",
      "---  ------             --------------  -----  \n",
      " 0   customer_id        7043 non-null   object \n",
      " 1   type               7043 non-null   object \n",
      " 2   paperless_billing  7043 non-null   uint8  \n",
      " 3   payment_method     7043 non-null   object \n",
      " 4   monthly_charges    7043 non-null   float32\n",
      " 5   total_charges      7043 non-null   float32\n",
      " 6   ceased_customer    7043 non-null   uint8  \n",
      " 7   gender             7043 non-null   uint8  \n",
      " 8   senior_citizen     7043 non-null   uint8  \n",
      " 9   partner            7043 non-null   uint8  \n",
      " 10  dependents         7043 non-null   uint8  \n",
      " 11  internet_service   7043 non-null   object \n",
      " 12  online_security    7043 non-null   uint8  \n",
      " 13  online_backup      7043 non-null   uint8  \n",
      " 14  device_protection  7043 non-null   uint8  \n",
      " 15  tech_support       7043 non-null   uint8  \n",
      " 16  streaming_tv       7043 non-null   uint8  \n",
      " 17  streaming_movies   7043 non-null   uint8  \n",
      "dtypes: float32(2), object(4), uint8(12)\n",
      "memory usage: 412.7+ KB\n"
     ]
    }
   ],
   "source": [
    "df_temp.info()"
   ]
  },
  {
   "cell_type": "markdown",
   "metadata": {},
   "source": [
    "<div class=\"alert alert-block alert-success\"> <b>Comentario del revisor</b> <a class=\"tocSkip\"></a><br> <b>Éxito</b> - Muy buena integración y codificación de variables del dataset de internet, manejando valores nulos de forma controlada y asegurando consistencia en el tipo de datos.</div>\n"
   ]
  },
  {
   "cell_type": "markdown",
   "metadata": {},
   "source": [
    "### Tratamiento de dataset phone"
   ]
  },
  {
   "cell_type": "code",
   "execution_count": 346,
   "metadata": {},
   "outputs": [],
   "source": [
    "df_merged = pd.merge(df_temp, df_phone, left_on='customer_id', right_on='customerID', how='left', copy='False')"
   ]
  },
  {
   "cell_type": "code",
   "execution_count": 347,
   "metadata": {},
   "outputs": [
    {
     "name": "stdout",
     "output_type": "stream",
     "text": [
      "<class 'pandas.core.frame.DataFrame'>\n",
      "Int64Index: 7043 entries, 0 to 7042\n",
      "Data columns (total 20 columns):\n",
      " #   Column             Non-Null Count  Dtype  \n",
      "---  ------             --------------  -----  \n",
      " 0   customer_id        7043 non-null   object \n",
      " 1   type               7043 non-null   object \n",
      " 2   paperless_billing  7043 non-null   uint8  \n",
      " 3   payment_method     7043 non-null   object \n",
      " 4   monthly_charges    7043 non-null   float32\n",
      " 5   total_charges      7043 non-null   float32\n",
      " 6   ceased_customer    7043 non-null   uint8  \n",
      " 7   gender             7043 non-null   uint8  \n",
      " 8   senior_citizen     7043 non-null   uint8  \n",
      " 9   partner            7043 non-null   uint8  \n",
      " 10  dependents         7043 non-null   uint8  \n",
      " 11  internet_service   7043 non-null   object \n",
      " 12  online_security    7043 non-null   uint8  \n",
      " 13  online_backup      7043 non-null   uint8  \n",
      " 14  device_protection  7043 non-null   uint8  \n",
      " 15  tech_support       7043 non-null   uint8  \n",
      " 16  streaming_tv       7043 non-null   uint8  \n",
      " 17  streaming_movies   7043 non-null   uint8  \n",
      " 18  customerID         6361 non-null   object \n",
      " 19  MultipleLines      6361 non-null   object \n",
      "dtypes: float32(2), object(6), uint8(12)\n",
      "memory usage: 522.7+ KB\n"
     ]
    }
   ],
   "source": [
    "df_merged.info()"
   ]
  },
  {
   "cell_type": "code",
   "execution_count": 348,
   "metadata": {},
   "outputs": [],
   "source": [
    "df_temp = df_merged.rename(\n",
    "    columns={\n",
    "        'customerID': 'phone_service',    # Servirá para indicar si tiene servicio de telefonia o no\n",
    "        'MultipleLines': 'multiple_lines'\n",
    "    })"
   ]
  },
  {
   "cell_type": "code",
   "execution_count": 349,
   "metadata": {},
   "outputs": [],
   "source": [
    "df_temp[\"phone_service\"] = df_temp[\"phone_service\"].fillna(0)\n",
    "df_temp[\"multiple_lines\"] = df_temp[\"multiple_lines\"].fillna(0)"
   ]
  },
  {
   "cell_type": "code",
   "execution_count": 350,
   "metadata": {},
   "outputs": [],
   "source": [
    "df_temp[\"phone_service\"] = df_temp['phone_service'].mask(df_temp['phone_service'] != 0, 1)"
   ]
  },
  {
   "cell_type": "code",
   "execution_count": 351,
   "metadata": {},
   "outputs": [],
   "source": [
    "df_temp['phone_service'] = pd.to_numeric(df_temp['phone_service'], downcast=\"unsigned\")\n",
    "df_temp['multiple_lines'] = pd.to_numeric(df_temp['multiple_lines'].replace({\"Yes\":1, \"No\":0}), downcast=\"unsigned\")"
   ]
  },
  {
   "cell_type": "code",
   "execution_count": 352,
   "metadata": {},
   "outputs": [
    {
     "data": {
      "text/plain": [
       "1    6361\n",
       "0     682\n",
       "Name: phone_service, dtype: int64"
      ]
     },
     "execution_count": 352,
     "metadata": {},
     "output_type": "execute_result"
    }
   ],
   "source": [
    "df_temp[\"phone_service\"].value_counts()"
   ]
  },
  {
   "cell_type": "code",
   "execution_count": 353,
   "metadata": {},
   "outputs": [
    {
     "data": {
      "text/plain": [
       "0    4072\n",
       "1    2971\n",
       "Name: multiple_lines, dtype: int64"
      ]
     },
     "execution_count": 353,
     "metadata": {},
     "output_type": "execute_result"
    }
   ],
   "source": [
    "df_temp[\"multiple_lines\"].value_counts()"
   ]
  },
  {
   "cell_type": "code",
   "execution_count": 354,
   "metadata": {},
   "outputs": [
    {
     "name": "stdout",
     "output_type": "stream",
     "text": [
      "<class 'pandas.core.frame.DataFrame'>\n",
      "Int64Index: 7043 entries, 0 to 7042\n",
      "Data columns (total 20 columns):\n",
      " #   Column             Non-Null Count  Dtype  \n",
      "---  ------             --------------  -----  \n",
      " 0   customer_id        7043 non-null   object \n",
      " 1   type               7043 non-null   object \n",
      " 2   paperless_billing  7043 non-null   uint8  \n",
      " 3   payment_method     7043 non-null   object \n",
      " 4   monthly_charges    7043 non-null   float32\n",
      " 5   total_charges      7043 non-null   float32\n",
      " 6   ceased_customer    7043 non-null   uint8  \n",
      " 7   gender             7043 non-null   uint8  \n",
      " 8   senior_citizen     7043 non-null   uint8  \n",
      " 9   partner            7043 non-null   uint8  \n",
      " 10  dependents         7043 non-null   uint8  \n",
      " 11  internet_service   7043 non-null   object \n",
      " 12  online_security    7043 non-null   uint8  \n",
      " 13  online_backup      7043 non-null   uint8  \n",
      " 14  device_protection  7043 non-null   uint8  \n",
      " 15  tech_support       7043 non-null   uint8  \n",
      " 16  streaming_tv       7043 non-null   uint8  \n",
      " 17  streaming_movies   7043 non-null   uint8  \n",
      " 18  phone_service      7043 non-null   uint8  \n",
      " 19  multiple_lines     7043 non-null   uint8  \n",
      "dtypes: float32(2), object(4), uint8(14)\n",
      "memory usage: 426.4+ KB\n"
     ]
    }
   ],
   "source": [
    "df_temp.info()"
   ]
  },
  {
   "cell_type": "markdown",
   "metadata": {},
   "source": [
    "<div class=\"alert alert-block alert-success\"> <b>Comentario del revisor</b> <a class=\"tocSkip\"></a><br> <b>Éxito</b> - Integración y codificación del dataset telefónico bien lograda, con un manejo adecuado de valores nulos y creación de variables indicadoras que enriquecen el análisis.</div>\n"
   ]
  },
  {
   "cell_type": "markdown",
   "metadata": {},
   "source": [
    "### Visualizacion de resultado"
   ]
  },
  {
   "cell_type": "code",
   "execution_count": 355,
   "metadata": {},
   "outputs": [
    {
     "data": {
      "text/html": [
       "<div>\n",
       "<style scoped>\n",
       "    .dataframe tbody tr th:only-of-type {\n",
       "        vertical-align: middle;\n",
       "    }\n",
       "\n",
       "    .dataframe tbody tr th {\n",
       "        vertical-align: top;\n",
       "    }\n",
       "\n",
       "    .dataframe thead th {\n",
       "        text-align: right;\n",
       "    }\n",
       "</style>\n",
       "<table border=\"1\" class=\"dataframe\">\n",
       "  <thead>\n",
       "    <tr style=\"text-align: right;\">\n",
       "      <th></th>\n",
       "      <th>customer_id</th>\n",
       "      <th>type</th>\n",
       "      <th>paperless_billing</th>\n",
       "      <th>payment_method</th>\n",
       "      <th>monthly_charges</th>\n",
       "      <th>total_charges</th>\n",
       "      <th>ceased_customer</th>\n",
       "      <th>gender</th>\n",
       "      <th>senior_citizen</th>\n",
       "      <th>partner</th>\n",
       "      <th>dependents</th>\n",
       "      <th>internet_service</th>\n",
       "      <th>online_security</th>\n",
       "      <th>online_backup</th>\n",
       "      <th>device_protection</th>\n",
       "      <th>tech_support</th>\n",
       "      <th>streaming_tv</th>\n",
       "      <th>streaming_movies</th>\n",
       "      <th>phone_service</th>\n",
       "      <th>multiple_lines</th>\n",
       "    </tr>\n",
       "  </thead>\n",
       "  <tbody>\n",
       "    <tr>\n",
       "      <th>6644</th>\n",
       "      <td>0898-XCGTF</td>\n",
       "      <td>One year</td>\n",
       "      <td>1</td>\n",
       "      <td>Bank transfer (automatic)</td>\n",
       "      <td>96.500000</td>\n",
       "      <td>5673.700195</td>\n",
       "      <td>0</td>\n",
       "      <td>1</td>\n",
       "      <td>0</td>\n",
       "      <td>1</td>\n",
       "      <td>0</td>\n",
       "      <td>Fiber optic</td>\n",
       "      <td>0</td>\n",
       "      <td>0</td>\n",
       "      <td>0</td>\n",
       "      <td>0</td>\n",
       "      <td>1</td>\n",
       "      <td>1</td>\n",
       "      <td>1</td>\n",
       "      <td>1</td>\n",
       "    </tr>\n",
       "    <tr>\n",
       "      <th>676</th>\n",
       "      <td>2324-AALNO</td>\n",
       "      <td>One year</td>\n",
       "      <td>0</td>\n",
       "      <td>Bank transfer (automatic)</td>\n",
       "      <td>24.549999</td>\n",
       "      <td>1203.949951</td>\n",
       "      <td>0</td>\n",
       "      <td>0</td>\n",
       "      <td>0</td>\n",
       "      <td>0</td>\n",
       "      <td>0</td>\n",
       "      <td>none</td>\n",
       "      <td>0</td>\n",
       "      <td>0</td>\n",
       "      <td>0</td>\n",
       "      <td>0</td>\n",
       "      <td>0</td>\n",
       "      <td>0</td>\n",
       "      <td>1</td>\n",
       "      <td>1</td>\n",
       "    </tr>\n",
       "    <tr>\n",
       "      <th>6589</th>\n",
       "      <td>3118-UHVVQ</td>\n",
       "      <td>Two year</td>\n",
       "      <td>0</td>\n",
       "      <td>Credit card (automatic)</td>\n",
       "      <td>25.799999</td>\n",
       "      <td>1911.500000</td>\n",
       "      <td>0</td>\n",
       "      <td>0</td>\n",
       "      <td>0</td>\n",
       "      <td>1</td>\n",
       "      <td>0</td>\n",
       "      <td>none</td>\n",
       "      <td>0</td>\n",
       "      <td>0</td>\n",
       "      <td>0</td>\n",
       "      <td>0</td>\n",
       "      <td>0</td>\n",
       "      <td>0</td>\n",
       "      <td>1</td>\n",
       "      <td>1</td>\n",
       "    </tr>\n",
       "    <tr>\n",
       "      <th>5238</th>\n",
       "      <td>7841-FCRQD</td>\n",
       "      <td>One year</td>\n",
       "      <td>1</td>\n",
       "      <td>Credit card (automatic)</td>\n",
       "      <td>53.750000</td>\n",
       "      <td>1857.300049</td>\n",
       "      <td>0</td>\n",
       "      <td>0</td>\n",
       "      <td>0</td>\n",
       "      <td>1</td>\n",
       "      <td>0</td>\n",
       "      <td>DSL</td>\n",
       "      <td>0</td>\n",
       "      <td>1</td>\n",
       "      <td>0</td>\n",
       "      <td>1</td>\n",
       "      <td>0</td>\n",
       "      <td>0</td>\n",
       "      <td>1</td>\n",
       "      <td>0</td>\n",
       "    </tr>\n",
       "    <tr>\n",
       "      <th>6629</th>\n",
       "      <td>6437-UDQJM</td>\n",
       "      <td>Two year</td>\n",
       "      <td>1</td>\n",
       "      <td>Credit card (automatic)</td>\n",
       "      <td>84.099998</td>\n",
       "      <td>6129.649902</td>\n",
       "      <td>0</td>\n",
       "      <td>0</td>\n",
       "      <td>1</td>\n",
       "      <td>1</td>\n",
       "      <td>0</td>\n",
       "      <td>DSL</td>\n",
       "      <td>1</td>\n",
       "      <td>1</td>\n",
       "      <td>1</td>\n",
       "      <td>0</td>\n",
       "      <td>1</td>\n",
       "      <td>1</td>\n",
       "      <td>1</td>\n",
       "      <td>1</td>\n",
       "    </tr>\n",
       "    <tr>\n",
       "      <th>3342</th>\n",
       "      <td>0384-LPITE</td>\n",
       "      <td>One year</td>\n",
       "      <td>0</td>\n",
       "      <td>Credit card (automatic)</td>\n",
       "      <td>62.049999</td>\n",
       "      <td>2511.550049</td>\n",
       "      <td>0</td>\n",
       "      <td>1</td>\n",
       "      <td>0</td>\n",
       "      <td>0</td>\n",
       "      <td>0</td>\n",
       "      <td>DSL</td>\n",
       "      <td>1</td>\n",
       "      <td>1</td>\n",
       "      <td>1</td>\n",
       "      <td>0</td>\n",
       "      <td>1</td>\n",
       "      <td>1</td>\n",
       "      <td>0</td>\n",
       "      <td>0</td>\n",
       "    </tr>\n",
       "    <tr>\n",
       "      <th>4141</th>\n",
       "      <td>8450-UYIBU</td>\n",
       "      <td>Month-to-month</td>\n",
       "      <td>1</td>\n",
       "      <td>Electronic check</td>\n",
       "      <td>39.849998</td>\n",
       "      <td>1434.599976</td>\n",
       "      <td>0</td>\n",
       "      <td>0</td>\n",
       "      <td>1</td>\n",
       "      <td>0</td>\n",
       "      <td>0</td>\n",
       "      <td>DSL</td>\n",
       "      <td>0</td>\n",
       "      <td>0</td>\n",
       "      <td>1</td>\n",
       "      <td>0</td>\n",
       "      <td>1</td>\n",
       "      <td>0</td>\n",
       "      <td>0</td>\n",
       "      <td>0</td>\n",
       "    </tr>\n",
       "    <tr>\n",
       "      <th>4782</th>\n",
       "      <td>6175-IRFIT</td>\n",
       "      <td>Month-to-month</td>\n",
       "      <td>0</td>\n",
       "      <td>Mailed check</td>\n",
       "      <td>78.750000</td>\n",
       "      <td>426.350006</td>\n",
       "      <td>0</td>\n",
       "      <td>1</td>\n",
       "      <td>0</td>\n",
       "      <td>0</td>\n",
       "      <td>0</td>\n",
       "      <td>Fiber optic</td>\n",
       "      <td>0</td>\n",
       "      <td>0</td>\n",
       "      <td>0</td>\n",
       "      <td>0</td>\n",
       "      <td>0</td>\n",
       "      <td>1</td>\n",
       "      <td>1</td>\n",
       "      <td>0</td>\n",
       "    </tr>\n",
       "    <tr>\n",
       "      <th>1101</th>\n",
       "      <td>4712-UYOOI</td>\n",
       "      <td>Month-to-month</td>\n",
       "      <td>0</td>\n",
       "      <td>Electronic check</td>\n",
       "      <td>20.000000</td>\n",
       "      <td>417.649994</td>\n",
       "      <td>0</td>\n",
       "      <td>0</td>\n",
       "      <td>0</td>\n",
       "      <td>1</td>\n",
       "      <td>1</td>\n",
       "      <td>none</td>\n",
       "      <td>0</td>\n",
       "      <td>0</td>\n",
       "      <td>0</td>\n",
       "      <td>0</td>\n",
       "      <td>0</td>\n",
       "      <td>0</td>\n",
       "      <td>1</td>\n",
       "      <td>0</td>\n",
       "    </tr>\n",
       "    <tr>\n",
       "      <th>5667</th>\n",
       "      <td>6469-QJKZW</td>\n",
       "      <td>Month-to-month</td>\n",
       "      <td>0</td>\n",
       "      <td>Electronic check</td>\n",
       "      <td>20.150000</td>\n",
       "      <td>91.400002</td>\n",
       "      <td>0</td>\n",
       "      <td>0</td>\n",
       "      <td>0</td>\n",
       "      <td>1</td>\n",
       "      <td>0</td>\n",
       "      <td>none</td>\n",
       "      <td>0</td>\n",
       "      <td>0</td>\n",
       "      <td>0</td>\n",
       "      <td>0</td>\n",
       "      <td>0</td>\n",
       "      <td>0</td>\n",
       "      <td>1</td>\n",
       "      <td>0</td>\n",
       "    </tr>\n",
       "  </tbody>\n",
       "</table>\n",
       "</div>"
      ],
      "text/plain": [
       "     customer_id            type  paperless_billing  \\\n",
       "6644  0898-XCGTF        One year                  1   \n",
       "676   2324-AALNO        One year                  0   \n",
       "6589  3118-UHVVQ        Two year                  0   \n",
       "5238  7841-FCRQD        One year                  1   \n",
       "6629  6437-UDQJM        Two year                  1   \n",
       "3342  0384-LPITE        One year                  0   \n",
       "4141  8450-UYIBU  Month-to-month                  1   \n",
       "4782  6175-IRFIT  Month-to-month                  0   \n",
       "1101  4712-UYOOI  Month-to-month                  0   \n",
       "5667  6469-QJKZW  Month-to-month                  0   \n",
       "\n",
       "                 payment_method  monthly_charges  total_charges  \\\n",
       "6644  Bank transfer (automatic)        96.500000    5673.700195   \n",
       "676   Bank transfer (automatic)        24.549999    1203.949951   \n",
       "6589    Credit card (automatic)        25.799999    1911.500000   \n",
       "5238    Credit card (automatic)        53.750000    1857.300049   \n",
       "6629    Credit card (automatic)        84.099998    6129.649902   \n",
       "3342    Credit card (automatic)        62.049999    2511.550049   \n",
       "4141           Electronic check        39.849998    1434.599976   \n",
       "4782               Mailed check        78.750000     426.350006   \n",
       "1101           Electronic check        20.000000     417.649994   \n",
       "5667           Electronic check        20.150000      91.400002   \n",
       "\n",
       "      ceased_customer  gender  senior_citizen  partner  dependents  \\\n",
       "6644                0       1               0        1           0   \n",
       "676                 0       0               0        0           0   \n",
       "6589                0       0               0        1           0   \n",
       "5238                0       0               0        1           0   \n",
       "6629                0       0               1        1           0   \n",
       "3342                0       1               0        0           0   \n",
       "4141                0       0               1        0           0   \n",
       "4782                0       1               0        0           0   \n",
       "1101                0       0               0        1           1   \n",
       "5667                0       0               0        1           0   \n",
       "\n",
       "     internet_service  online_security  online_backup  device_protection  \\\n",
       "6644      Fiber optic                0              0                  0   \n",
       "676              none                0              0                  0   \n",
       "6589             none                0              0                  0   \n",
       "5238              DSL                0              1                  0   \n",
       "6629              DSL                1              1                  1   \n",
       "3342              DSL                1              1                  1   \n",
       "4141              DSL                0              0                  1   \n",
       "4782      Fiber optic                0              0                  0   \n",
       "1101             none                0              0                  0   \n",
       "5667             none                0              0                  0   \n",
       "\n",
       "      tech_support  streaming_tv  streaming_movies  phone_service  \\\n",
       "6644             0             1                 1              1   \n",
       "676              0             0                 0              1   \n",
       "6589             0             0                 0              1   \n",
       "5238             1             0                 0              1   \n",
       "6629             0             1                 1              1   \n",
       "3342             0             1                 1              0   \n",
       "4141             0             1                 0              0   \n",
       "4782             0             0                 1              1   \n",
       "1101             0             0                 0              1   \n",
       "5667             0             0                 0              1   \n",
       "\n",
       "      multiple_lines  \n",
       "6644               1  \n",
       "676                1  \n",
       "6589               1  \n",
       "5238               0  \n",
       "6629               1  \n",
       "3342               0  \n",
       "4141               0  \n",
       "4782               0  \n",
       "1101               0  \n",
       "5667               0  "
      ]
     },
     "execution_count": 355,
     "metadata": {},
     "output_type": "execute_result"
    }
   ],
   "source": [
    "df_temp.sample(10)"
   ]
  },
  {
   "cell_type": "code",
   "execution_count": 356,
   "metadata": {},
   "outputs": [
    {
     "data": {
      "text/html": [
       "<div>\n",
       "<style scoped>\n",
       "    .dataframe tbody tr th:only-of-type {\n",
       "        vertical-align: middle;\n",
       "    }\n",
       "\n",
       "    .dataframe tbody tr th {\n",
       "        vertical-align: top;\n",
       "    }\n",
       "\n",
       "    .dataframe thead th {\n",
       "        text-align: right;\n",
       "    }\n",
       "</style>\n",
       "<table border=\"1\" class=\"dataframe\">\n",
       "  <thead>\n",
       "    <tr style=\"text-align: right;\">\n",
       "      <th></th>\n",
       "      <th>paperless_billing</th>\n",
       "      <th>monthly_charges</th>\n",
       "      <th>total_charges</th>\n",
       "      <th>ceased_customer</th>\n",
       "      <th>gender</th>\n",
       "      <th>senior_citizen</th>\n",
       "      <th>partner</th>\n",
       "      <th>dependents</th>\n",
       "      <th>online_security</th>\n",
       "      <th>online_backup</th>\n",
       "      <th>device_protection</th>\n",
       "      <th>tech_support</th>\n",
       "      <th>streaming_tv</th>\n",
       "      <th>streaming_movies</th>\n",
       "      <th>phone_service</th>\n",
       "      <th>multiple_lines</th>\n",
       "    </tr>\n",
       "  </thead>\n",
       "  <tbody>\n",
       "    <tr>\n",
       "      <th>count</th>\n",
       "      <td>7043.000000</td>\n",
       "      <td>7043.000000</td>\n",
       "      <td>7043.000000</td>\n",
       "      <td>7043.000000</td>\n",
       "      <td>7043.000000</td>\n",
       "      <td>7043.000000</td>\n",
       "      <td>7043.000000</td>\n",
       "      <td>7043.000000</td>\n",
       "      <td>7043.000000</td>\n",
       "      <td>7043.000000</td>\n",
       "      <td>7043.000000</td>\n",
       "      <td>7043.000000</td>\n",
       "      <td>7043.000000</td>\n",
       "      <td>7043.000000</td>\n",
       "      <td>7043.000000</td>\n",
       "      <td>7043.000000</td>\n",
       "    </tr>\n",
       "    <tr>\n",
       "      <th>mean</th>\n",
       "      <td>0.592219</td>\n",
       "      <td>64.761696</td>\n",
       "      <td>2279.734375</td>\n",
       "      <td>0.265370</td>\n",
       "      <td>0.504756</td>\n",
       "      <td>0.162147</td>\n",
       "      <td>0.483033</td>\n",
       "      <td>0.299588</td>\n",
       "      <td>0.286668</td>\n",
       "      <td>0.344881</td>\n",
       "      <td>0.343888</td>\n",
       "      <td>0.290217</td>\n",
       "      <td>0.384353</td>\n",
       "      <td>0.387903</td>\n",
       "      <td>0.903166</td>\n",
       "      <td>0.421837</td>\n",
       "    </tr>\n",
       "    <tr>\n",
       "      <th>std</th>\n",
       "      <td>0.491457</td>\n",
       "      <td>30.090048</td>\n",
       "      <td>2266.794434</td>\n",
       "      <td>0.441561</td>\n",
       "      <td>0.500013</td>\n",
       "      <td>0.368612</td>\n",
       "      <td>0.499748</td>\n",
       "      <td>0.458110</td>\n",
       "      <td>0.452237</td>\n",
       "      <td>0.475363</td>\n",
       "      <td>0.475038</td>\n",
       "      <td>0.453895</td>\n",
       "      <td>0.486477</td>\n",
       "      <td>0.487307</td>\n",
       "      <td>0.295752</td>\n",
       "      <td>0.493888</td>\n",
       "    </tr>\n",
       "    <tr>\n",
       "      <th>min</th>\n",
       "      <td>0.000000</td>\n",
       "      <td>18.250000</td>\n",
       "      <td>0.000000</td>\n",
       "      <td>0.000000</td>\n",
       "      <td>0.000000</td>\n",
       "      <td>0.000000</td>\n",
       "      <td>0.000000</td>\n",
       "      <td>0.000000</td>\n",
       "      <td>0.000000</td>\n",
       "      <td>0.000000</td>\n",
       "      <td>0.000000</td>\n",
       "      <td>0.000000</td>\n",
       "      <td>0.000000</td>\n",
       "      <td>0.000000</td>\n",
       "      <td>0.000000</td>\n",
       "      <td>0.000000</td>\n",
       "    </tr>\n",
       "    <tr>\n",
       "      <th>25%</th>\n",
       "      <td>0.000000</td>\n",
       "      <td>35.500000</td>\n",
       "      <td>398.549988</td>\n",
       "      <td>0.000000</td>\n",
       "      <td>0.000000</td>\n",
       "      <td>0.000000</td>\n",
       "      <td>0.000000</td>\n",
       "      <td>0.000000</td>\n",
       "      <td>0.000000</td>\n",
       "      <td>0.000000</td>\n",
       "      <td>0.000000</td>\n",
       "      <td>0.000000</td>\n",
       "      <td>0.000000</td>\n",
       "      <td>0.000000</td>\n",
       "      <td>1.000000</td>\n",
       "      <td>0.000000</td>\n",
       "    </tr>\n",
       "    <tr>\n",
       "      <th>50%</th>\n",
       "      <td>1.000000</td>\n",
       "      <td>70.349998</td>\n",
       "      <td>1394.550049</td>\n",
       "      <td>0.000000</td>\n",
       "      <td>1.000000</td>\n",
       "      <td>0.000000</td>\n",
       "      <td>0.000000</td>\n",
       "      <td>0.000000</td>\n",
       "      <td>0.000000</td>\n",
       "      <td>0.000000</td>\n",
       "      <td>0.000000</td>\n",
       "      <td>0.000000</td>\n",
       "      <td>0.000000</td>\n",
       "      <td>0.000000</td>\n",
       "      <td>1.000000</td>\n",
       "      <td>0.000000</td>\n",
       "    </tr>\n",
       "    <tr>\n",
       "      <th>75%</th>\n",
       "      <td>1.000000</td>\n",
       "      <td>89.849998</td>\n",
       "      <td>3786.599976</td>\n",
       "      <td>1.000000</td>\n",
       "      <td>1.000000</td>\n",
       "      <td>0.000000</td>\n",
       "      <td>1.000000</td>\n",
       "      <td>1.000000</td>\n",
       "      <td>1.000000</td>\n",
       "      <td>1.000000</td>\n",
       "      <td>1.000000</td>\n",
       "      <td>1.000000</td>\n",
       "      <td>1.000000</td>\n",
       "      <td>1.000000</td>\n",
       "      <td>1.000000</td>\n",
       "      <td>1.000000</td>\n",
       "    </tr>\n",
       "    <tr>\n",
       "      <th>max</th>\n",
       "      <td>1.000000</td>\n",
       "      <td>118.750000</td>\n",
       "      <td>8684.799805</td>\n",
       "      <td>1.000000</td>\n",
       "      <td>1.000000</td>\n",
       "      <td>1.000000</td>\n",
       "      <td>1.000000</td>\n",
       "      <td>1.000000</td>\n",
       "      <td>1.000000</td>\n",
       "      <td>1.000000</td>\n",
       "      <td>1.000000</td>\n",
       "      <td>1.000000</td>\n",
       "      <td>1.000000</td>\n",
       "      <td>1.000000</td>\n",
       "      <td>1.000000</td>\n",
       "      <td>1.000000</td>\n",
       "    </tr>\n",
       "  </tbody>\n",
       "</table>\n",
       "</div>"
      ],
      "text/plain": [
       "       paperless_billing  monthly_charges  total_charges  ceased_customer  \\\n",
       "count        7043.000000      7043.000000    7043.000000      7043.000000   \n",
       "mean            0.592219        64.761696    2279.734375         0.265370   \n",
       "std             0.491457        30.090048    2266.794434         0.441561   \n",
       "min             0.000000        18.250000       0.000000         0.000000   \n",
       "25%             0.000000        35.500000     398.549988         0.000000   \n",
       "50%             1.000000        70.349998    1394.550049         0.000000   \n",
       "75%             1.000000        89.849998    3786.599976         1.000000   \n",
       "max             1.000000       118.750000    8684.799805         1.000000   \n",
       "\n",
       "            gender  senior_citizen      partner   dependents  online_security  \\\n",
       "count  7043.000000     7043.000000  7043.000000  7043.000000      7043.000000   \n",
       "mean      0.504756        0.162147     0.483033     0.299588         0.286668   \n",
       "std       0.500013        0.368612     0.499748     0.458110         0.452237   \n",
       "min       0.000000        0.000000     0.000000     0.000000         0.000000   \n",
       "25%       0.000000        0.000000     0.000000     0.000000         0.000000   \n",
       "50%       1.000000        0.000000     0.000000     0.000000         0.000000   \n",
       "75%       1.000000        0.000000     1.000000     1.000000         1.000000   \n",
       "max       1.000000        1.000000     1.000000     1.000000         1.000000   \n",
       "\n",
       "       online_backup  device_protection  tech_support  streaming_tv  \\\n",
       "count    7043.000000        7043.000000   7043.000000   7043.000000   \n",
       "mean        0.344881           0.343888      0.290217      0.384353   \n",
       "std         0.475363           0.475038      0.453895      0.486477   \n",
       "min         0.000000           0.000000      0.000000      0.000000   \n",
       "25%         0.000000           0.000000      0.000000      0.000000   \n",
       "50%         0.000000           0.000000      0.000000      0.000000   \n",
       "75%         1.000000           1.000000      1.000000      1.000000   \n",
       "max         1.000000           1.000000      1.000000      1.000000   \n",
       "\n",
       "       streaming_movies  phone_service  multiple_lines  \n",
       "count       7043.000000    7043.000000     7043.000000  \n",
       "mean           0.387903       0.903166        0.421837  \n",
       "std            0.487307       0.295752        0.493888  \n",
       "min            0.000000       0.000000        0.000000  \n",
       "25%            0.000000       1.000000        0.000000  \n",
       "50%            0.000000       1.000000        0.000000  \n",
       "75%            1.000000       1.000000        1.000000  \n",
       "max            1.000000       1.000000        1.000000  "
      ]
     },
     "execution_count": 356,
     "metadata": {},
     "output_type": "execute_result"
    }
   ],
   "source": [
    "df_temp.describe()"
   ]
  },
  {
   "cell_type": "markdown",
   "metadata": {},
   "source": [
    "<div class=\"alert alert-block alert-success\"> <b>Comentario del revisor</b> <a class=\"tocSkip\"></a><br> <b>Éxito</b> - El dataset final muestra una integración completa y consistente, con todas las variables correctamente transformadas y listas para el análisis y modelado.</div>\n"
   ]
  },
  {
   "cell_type": "markdown",
   "metadata": {},
   "source": [
    "### Estandarizacion y normalizcion"
   ]
  },
  {
   "cell_type": "code",
   "execution_count": 357,
   "metadata": {},
   "outputs": [],
   "source": [
    "cat_features = [\n",
    "    'type', \n",
    "    'payment_method',\n",
    "    'internet_service'\n",
    "]\n",
    "\n",
    "num_features = [\n",
    "    'monthly_charges', \n",
    "    'total_charges'\n",
    "]\n",
    "\n",
    "data = df_temp.copy()"
   ]
  },
  {
   "cell_type": "code",
   "execution_count": 358,
   "metadata": {},
   "outputs": [],
   "source": [
    "scaler = StandardScaler()\n",
    "scaler.fit(data[num_features])\n",
    "data[num_features] = scaler.transform(data[num_features])"
   ]
  },
  {
   "cell_type": "code",
   "execution_count": 359,
   "metadata": {},
   "outputs": [
    {
     "data": {
      "text/html": [
       "<div>\n",
       "<style scoped>\n",
       "    .dataframe tbody tr th:only-of-type {\n",
       "        vertical-align: middle;\n",
       "    }\n",
       "\n",
       "    .dataframe tbody tr th {\n",
       "        vertical-align: top;\n",
       "    }\n",
       "\n",
       "    .dataframe thead th {\n",
       "        text-align: right;\n",
       "    }\n",
       "</style>\n",
       "<table border=\"1\" class=\"dataframe\">\n",
       "  <thead>\n",
       "    <tr style=\"text-align: right;\">\n",
       "      <th></th>\n",
       "      <th>monthly_charges</th>\n",
       "      <th>total_charges</th>\n",
       "    </tr>\n",
       "  </thead>\n",
       "  <tbody>\n",
       "    <tr>\n",
       "      <th>count</th>\n",
       "      <td>7.043000e+03</td>\n",
       "      <td>7.043000e+03</td>\n",
       "    </tr>\n",
       "    <tr>\n",
       "      <th>mean</th>\n",
       "      <td>6.785188e-09</td>\n",
       "      <td>-4.736833e-09</td>\n",
       "    </tr>\n",
       "    <tr>\n",
       "      <th>std</th>\n",
       "      <td>1.000071e+00</td>\n",
       "      <td>1.000071e+00</td>\n",
       "    </tr>\n",
       "    <tr>\n",
       "      <th>min</th>\n",
       "      <td>-1.545860e+00</td>\n",
       "      <td>-1.005780e+00</td>\n",
       "    </tr>\n",
       "    <tr>\n",
       "      <th>25%</th>\n",
       "      <td>-9.725398e-01</td>\n",
       "      <td>-8.299464e-01</td>\n",
       "    </tr>\n",
       "    <tr>\n",
       "      <th>50%</th>\n",
       "      <td>1.857326e-01</td>\n",
       "      <td>-3.905282e-01</td>\n",
       "    </tr>\n",
       "    <tr>\n",
       "      <th>75%</th>\n",
       "      <td>8.338335e-01</td>\n",
       "      <td>6.648034e-01</td>\n",
       "    </tr>\n",
       "    <tr>\n",
       "      <th>max</th>\n",
       "      <td>1.794352e+00</td>\n",
       "      <td>2.825805e+00</td>\n",
       "    </tr>\n",
       "  </tbody>\n",
       "</table>\n",
       "</div>"
      ],
      "text/plain": [
       "       monthly_charges  total_charges\n",
       "count     7.043000e+03   7.043000e+03\n",
       "mean      6.785188e-09  -4.736833e-09\n",
       "std       1.000071e+00   1.000071e+00\n",
       "min      -1.545860e+00  -1.005780e+00\n",
       "25%      -9.725398e-01  -8.299464e-01\n",
       "50%       1.857326e-01  -3.905282e-01\n",
       "75%       8.338335e-01   6.648034e-01\n",
       "max       1.794352e+00   2.825805e+00"
      ]
     },
     "execution_count": 359,
     "metadata": {},
     "output_type": "execute_result"
    }
   ],
   "source": [
    "data[num_features].describe()"
   ]
  },
  {
   "cell_type": "code",
   "execution_count": 360,
   "metadata": {},
   "outputs": [],
   "source": [
    "# OneHotEncoder\n",
    "data = pd.get_dummies(data, \n",
    "                      columns=cat_features, \n",
    "                     # drop_first=True\n",
    "                     )"
   ]
  },
  {
   "cell_type": "code",
   "execution_count": 361,
   "metadata": {},
   "outputs": [
    {
     "name": "stdout",
     "output_type": "stream",
     "text": [
      "<class 'pandas.core.frame.DataFrame'>\n",
      "Int64Index: 7043 entries, 0 to 7042\n",
      "Data columns (total 27 columns):\n",
      " #   Column                                    Non-Null Count  Dtype  \n",
      "---  ------                                    --------------  -----  \n",
      " 0   customer_id                               7043 non-null   object \n",
      " 1   paperless_billing                         7043 non-null   uint8  \n",
      " 2   monthly_charges                           7043 non-null   float64\n",
      " 3   total_charges                             7043 non-null   float64\n",
      " 4   ceased_customer                           7043 non-null   uint8  \n",
      " 5   gender                                    7043 non-null   uint8  \n",
      " 6   senior_citizen                            7043 non-null   uint8  \n",
      " 7   partner                                   7043 non-null   uint8  \n",
      " 8   dependents                                7043 non-null   uint8  \n",
      " 9   online_security                           7043 non-null   uint8  \n",
      " 10  online_backup                             7043 non-null   uint8  \n",
      " 11  device_protection                         7043 non-null   uint8  \n",
      " 12  tech_support                              7043 non-null   uint8  \n",
      " 13  streaming_tv                              7043 non-null   uint8  \n",
      " 14  streaming_movies                          7043 non-null   uint8  \n",
      " 15  phone_service                             7043 non-null   uint8  \n",
      " 16  multiple_lines                            7043 non-null   uint8  \n",
      " 17  type_Month-to-month                       7043 non-null   uint8  \n",
      " 18  type_One year                             7043 non-null   uint8  \n",
      " 19  type_Two year                             7043 non-null   uint8  \n",
      " 20  payment_method_Bank transfer (automatic)  7043 non-null   uint8  \n",
      " 21  payment_method_Credit card (automatic)    7043 non-null   uint8  \n",
      " 22  payment_method_Electronic check           7043 non-null   uint8  \n",
      " 23  payment_method_Mailed check               7043 non-null   uint8  \n",
      " 24  internet_service_DSL                      7043 non-null   uint8  \n",
      " 25  internet_service_Fiber optic              7043 non-null   uint8  \n",
      " 26  internet_service_none                     7043 non-null   uint8  \n",
      "dtypes: float64(2), object(1), uint8(24)\n",
      "memory usage: 385.2+ KB\n"
     ]
    }
   ],
   "source": [
    "data.info()"
   ]
  },
  {
   "cell_type": "code",
   "execution_count": 362,
   "metadata": {
    "scrolled": true
   },
   "outputs": [
    {
     "data": {
      "text/html": [
       "<div>\n",
       "<style scoped>\n",
       "    .dataframe tbody tr th:only-of-type {\n",
       "        vertical-align: middle;\n",
       "    }\n",
       "\n",
       "    .dataframe tbody tr th {\n",
       "        vertical-align: top;\n",
       "    }\n",
       "\n",
       "    .dataframe thead th {\n",
       "        text-align: right;\n",
       "    }\n",
       "</style>\n",
       "<table border=\"1\" class=\"dataframe\">\n",
       "  <thead>\n",
       "    <tr style=\"text-align: right;\">\n",
       "      <th></th>\n",
       "      <th>customer_id</th>\n",
       "      <th>paperless_billing</th>\n",
       "      <th>monthly_charges</th>\n",
       "      <th>total_charges</th>\n",
       "      <th>ceased_customer</th>\n",
       "      <th>gender</th>\n",
       "      <th>senior_citizen</th>\n",
       "      <th>partner</th>\n",
       "      <th>dependents</th>\n",
       "      <th>online_security</th>\n",
       "      <th>...</th>\n",
       "      <th>type_Month-to-month</th>\n",
       "      <th>type_One year</th>\n",
       "      <th>type_Two year</th>\n",
       "      <th>payment_method_Bank transfer (automatic)</th>\n",
       "      <th>payment_method_Credit card (automatic)</th>\n",
       "      <th>payment_method_Electronic check</th>\n",
       "      <th>payment_method_Mailed check</th>\n",
       "      <th>internet_service_DSL</th>\n",
       "      <th>internet_service_Fiber optic</th>\n",
       "      <th>internet_service_none</th>\n",
       "    </tr>\n",
       "  </thead>\n",
       "  <tbody>\n",
       "    <tr>\n",
       "      <th>0</th>\n",
       "      <td>7590-VHVEG</td>\n",
       "      <td>1</td>\n",
       "      <td>-1.160323</td>\n",
       "      <td>-0.992611</td>\n",
       "      <td>0</td>\n",
       "      <td>0</td>\n",
       "      <td>0</td>\n",
       "      <td>1</td>\n",
       "      <td>0</td>\n",
       "      <td>0</td>\n",
       "      <td>...</td>\n",
       "      <td>1</td>\n",
       "      <td>0</td>\n",
       "      <td>0</td>\n",
       "      <td>0</td>\n",
       "      <td>0</td>\n",
       "      <td>1</td>\n",
       "      <td>0</td>\n",
       "      <td>1</td>\n",
       "      <td>0</td>\n",
       "      <td>0</td>\n",
       "    </tr>\n",
       "    <tr>\n",
       "      <th>1</th>\n",
       "      <td>5575-GNVDE</td>\n",
       "      <td>0</td>\n",
       "      <td>-0.259629</td>\n",
       "      <td>-0.172165</td>\n",
       "      <td>0</td>\n",
       "      <td>1</td>\n",
       "      <td>0</td>\n",
       "      <td>0</td>\n",
       "      <td>0</td>\n",
       "      <td>1</td>\n",
       "      <td>...</td>\n",
       "      <td>0</td>\n",
       "      <td>1</td>\n",
       "      <td>0</td>\n",
       "      <td>0</td>\n",
       "      <td>0</td>\n",
       "      <td>0</td>\n",
       "      <td>1</td>\n",
       "      <td>1</td>\n",
       "      <td>0</td>\n",
       "      <td>0</td>\n",
       "    </tr>\n",
       "    <tr>\n",
       "      <th>2</th>\n",
       "      <td>3668-QPYBK</td>\n",
       "      <td>1</td>\n",
       "      <td>-0.362660</td>\n",
       "      <td>-0.958066</td>\n",
       "      <td>1</td>\n",
       "      <td>1</td>\n",
       "      <td>0</td>\n",
       "      <td>0</td>\n",
       "      <td>0</td>\n",
       "      <td>1</td>\n",
       "      <td>...</td>\n",
       "      <td>1</td>\n",
       "      <td>0</td>\n",
       "      <td>0</td>\n",
       "      <td>0</td>\n",
       "      <td>0</td>\n",
       "      <td>0</td>\n",
       "      <td>1</td>\n",
       "      <td>1</td>\n",
       "      <td>0</td>\n",
       "      <td>0</td>\n",
       "    </tr>\n",
       "    <tr>\n",
       "      <th>3</th>\n",
       "      <td>7795-CFOCW</td>\n",
       "      <td>0</td>\n",
       "      <td>-0.746535</td>\n",
       "      <td>-0.193672</td>\n",
       "      <td>0</td>\n",
       "      <td>1</td>\n",
       "      <td>0</td>\n",
       "      <td>0</td>\n",
       "      <td>0</td>\n",
       "      <td>1</td>\n",
       "      <td>...</td>\n",
       "      <td>0</td>\n",
       "      <td>1</td>\n",
       "      <td>0</td>\n",
       "      <td>1</td>\n",
       "      <td>0</td>\n",
       "      <td>0</td>\n",
       "      <td>0</td>\n",
       "      <td>1</td>\n",
       "      <td>0</td>\n",
       "      <td>0</td>\n",
       "    </tr>\n",
       "    <tr>\n",
       "      <th>4</th>\n",
       "      <td>9237-HQITU</td>\n",
       "      <td>1</td>\n",
       "      <td>0.197365</td>\n",
       "      <td>-0.938874</td>\n",
       "      <td>1</td>\n",
       "      <td>0</td>\n",
       "      <td>0</td>\n",
       "      <td>0</td>\n",
       "      <td>0</td>\n",
       "      <td>0</td>\n",
       "      <td>...</td>\n",
       "      <td>1</td>\n",
       "      <td>0</td>\n",
       "      <td>0</td>\n",
       "      <td>0</td>\n",
       "      <td>0</td>\n",
       "      <td>1</td>\n",
       "      <td>0</td>\n",
       "      <td>0</td>\n",
       "      <td>1</td>\n",
       "      <td>0</td>\n",
       "    </tr>\n",
       "  </tbody>\n",
       "</table>\n",
       "<p>5 rows × 27 columns</p>\n",
       "</div>"
      ],
      "text/plain": [
       "  customer_id  paperless_billing  monthly_charges  total_charges  \\\n",
       "0  7590-VHVEG                  1        -1.160323      -0.992611   \n",
       "1  5575-GNVDE                  0        -0.259629      -0.172165   \n",
       "2  3668-QPYBK                  1        -0.362660      -0.958066   \n",
       "3  7795-CFOCW                  0        -0.746535      -0.193672   \n",
       "4  9237-HQITU                  1         0.197365      -0.938874   \n",
       "\n",
       "   ceased_customer  gender  senior_citizen  partner  dependents  \\\n",
       "0                0       0               0        1           0   \n",
       "1                0       1               0        0           0   \n",
       "2                1       1               0        0           0   \n",
       "3                0       1               0        0           0   \n",
       "4                1       0               0        0           0   \n",
       "\n",
       "   online_security  ...  type_Month-to-month  type_One year  type_Two year  \\\n",
       "0                0  ...                    1              0              0   \n",
       "1                1  ...                    0              1              0   \n",
       "2                1  ...                    1              0              0   \n",
       "3                1  ...                    0              1              0   \n",
       "4                0  ...                    1              0              0   \n",
       "\n",
       "   payment_method_Bank transfer (automatic)  \\\n",
       "0                                         0   \n",
       "1                                         0   \n",
       "2                                         0   \n",
       "3                                         1   \n",
       "4                                         0   \n",
       "\n",
       "   payment_method_Credit card (automatic)  payment_method_Electronic check  \\\n",
       "0                                       0                                1   \n",
       "1                                       0                                0   \n",
       "2                                       0                                0   \n",
       "3                                       0                                0   \n",
       "4                                       0                                1   \n",
       "\n",
       "   payment_method_Mailed check  internet_service_DSL  \\\n",
       "0                            0                     1   \n",
       "1                            1                     1   \n",
       "2                            1                     1   \n",
       "3                            0                     1   \n",
       "4                            0                     0   \n",
       "\n",
       "   internet_service_Fiber optic  internet_service_none  \n",
       "0                             0                      0  \n",
       "1                             0                      0  \n",
       "2                             0                      0  \n",
       "3                             0                      0  \n",
       "4                             1                      0  \n",
       "\n",
       "[5 rows x 27 columns]"
      ]
     },
     "execution_count": 362,
     "metadata": {},
     "output_type": "execute_result"
    }
   ],
   "source": [
    "data.head()"
   ]
  },
  {
   "cell_type": "markdown",
   "metadata": {},
   "source": [
    "<div class=\"alert alert-block alert-success\"> <b>Comentario del revisor</b> <a class=\"tocSkip\"></a><br> <b>Éxito</b> - La estandarización de variables numéricas y la codificación one-hot de categóricas están bien aplicadas, dejando el dataset final en un formato óptimo para el entrenamiento de modelos.</div>\n"
   ]
  },
  {
   "cell_type": "markdown",
   "metadata": {},
   "source": [
    "### Seleccionando columnas finales"
   ]
  },
  {
   "cell_type": "markdown",
   "metadata": {},
   "source": [
    "#### Grafica de correlacion"
   ]
  },
  {
   "cell_type": "code",
   "execution_count": 363,
   "metadata": {},
   "outputs": [
    {
     "data": {
      "image/png": "[encoded data removed]",
      "text/plain": [
       "<Figure size 640x480 with 2 Axes>"
      ]
     },
     "metadata": {},
     "output_type": "display_data"
    }
   ],
   "source": [
    "generaGraficaCorr(data)"
   ]
  },
  {
   "cell_type": "markdown",
   "metadata": {},
   "source": [
    "<div class=\"alert alert-block alert-success\"> <b>Comentario del revisor</b> <a class=\"tocSkip\"></a><br> <b>Éxito</b> - La visualización de la matriz de correlación permite una comprensión rápida de las relaciones entre variables, facilitando la detección de posibles redundancias o patrones relevantes para el modelado.</div>\n"
   ]
  },
  {
   "cell_type": "markdown",
   "metadata": {},
   "source": [
    "#### Matriz de correlacion (Pearson)"
   ]
  },
  {
   "cell_type": "code",
   "execution_count": 364,
   "metadata": {},
   "outputs": [],
   "source": [
    "matriz_correlacion = data.corr(method='pearson')"
   ]
  },
  {
   "cell_type": "code",
   "execution_count": 365,
   "metadata": {},
   "outputs": [
    {
     "name": "stdout",
     "output_type": "stream",
     "text": [
      "Correlación de cada característica con la variable objetivo:\n",
      "paperless_billing                           0.191825\n",
      "monthly_charges                             0.193356\n",
      "total_charges                              -0.198324\n",
      "ceased_customer                             1.000000\n",
      "gender                                     -0.008612\n",
      "senior_citizen                              0.150889\n",
      "partner                                    -0.150448\n",
      "dependents                                 -0.164221\n",
      "online_security                            -0.171226\n",
      "online_backup                              -0.082255\n",
      "device_protection                          -0.066160\n",
      "tech_support                               -0.164674\n",
      "streaming_tv                                0.063228\n",
      "streaming_movies                            0.061382\n",
      "phone_service                               0.011942\n",
      "multiple_lines                              0.040102\n",
      "type_Month-to-month                         0.405103\n",
      "type_One year                              -0.177820\n",
      "type_Two year                              -0.302253\n",
      "payment_method_Bank transfer (automatic)   -0.117937\n",
      "payment_method_Credit card (automatic)     -0.134302\n",
      "payment_method_Electronic check             0.301919\n",
      "payment_method_Mailed check                -0.091683\n",
      "internet_service_DSL                       -0.124214\n",
      "internet_service_Fiber optic                0.308020\n",
      "internet_service_none                      -0.227890\n",
      "Name: ceased_customer, dtype: float64\n"
     ]
    }
   ],
   "source": [
    "# Seleccionamos la columna 'variable_objetivo' para ver sus correlaciones con las demás\n",
    "correlaciones_con_objetivo = matriz_correlacion['ceased_customer']\n",
    "\n",
    "print(\"Correlación de cada característica con la variable objetivo:\")\n",
    "print(correlaciones_con_objetivo)"
   ]
  },
  {
   "cell_type": "code",
   "execution_count": 366,
   "metadata": {},
   "outputs": [
    {
     "name": "stdout",
     "output_type": "stream",
     "text": [
      "gender           -0.008612\n",
      "phone_service     0.011942\n",
      "multiple_lines    0.040102\n",
      "Name: ceased_customer, dtype: float64\n"
     ]
    }
   ],
   "source": [
    "# Filtrando características basándose en un umbral\n",
    "umbral = 0.05\n",
    "caracteristicas_seleccionadas = correlaciones_con_objetivo[abs(correlaciones_con_objetivo) < umbral] #.index.tolist()\n",
    "\n",
    "print(caracteristicas_seleccionadas)"
   ]
  },
  {
   "cell_type": "markdown",
   "metadata": {},
   "source": [
    "#### Observaciones\n",
    "\n",
    "Basado en el umbral, se opta por descartar las siguientes variables:"
   ]
  },
  {
   "cell_type": "code",
   "execution_count": 367,
   "metadata": {},
   "outputs": [],
   "source": [
    "data = data.drop([\"gender\", \n",
    "                  #\"online_backup\", \"device_protection\",\n",
    "                  #\"streaming_tv\", \"streaming_movies\",\n",
    "#                  \"phone_service\", \"multiple_lines\",\n",
    "                  #\"payment_method_Mailed check\"\n",
    "                 ], axis = 1)\n",
    "data = data.drop([\"customer_id\"], axis = 1)"
   ]
  },
  {
   "cell_type": "code",
   "execution_count": 368,
   "metadata": {},
   "outputs": [
    {
     "data": {
      "text/plain": [
       "False    7002\n",
       "True       41\n",
       "dtype: int64"
      ]
     },
     "execution_count": 368,
     "metadata": {},
     "output_type": "execute_result"
    }
   ],
   "source": [
    "data.duplicated().value_counts()"
   ]
  },
  {
   "cell_type": "code",
   "execution_count": 369,
   "metadata": {},
   "outputs": [
    {
     "name": "stdout",
     "output_type": "stream",
     "text": [
      "Normalized Class Frequency:\n",
      "0    0.73463\n",
      "1    0.26537\n",
      "Name: ceased_customer, dtype: float64\n"
     ]
    },
    {
     "data": {
      "image/png": "[encoded data removed]",
      "text/plain": [
       "<Figure size 640x480 with 1 Axes>"
      ]
     },
     "metadata": {},
     "output_type": "display_data"
    }
   ],
   "source": [
    "displayClassFrequency(data[\"ceased_customer\"])"
   ]
  },
  {
   "cell_type": "markdown",
   "metadata": {},
   "source": [
    "<div class=\"alert alert-block alert-success\"> <b>Comentario del revisor</b> <a class=\"tocSkip\"></a><br> <b>Éxito</b> - El análisis de correlaciones está bien fundamentado y respalda la selección de variables, manteniendo un dataset depurado y equilibrado para el modelado.</div>\n"
   ]
  },
  {
   "cell_type": "markdown",
   "metadata": {},
   "source": [
    "## Generación de un checkpoint"
   ]
  },
  {
   "cell_type": "markdown",
   "metadata": {},
   "source": [
    "### Almacenamiento de la informacion"
   ]
  },
  {
   "cell_type": "code",
   "execution_count": 370,
   "metadata": {},
   "outputs": [
    {
     "name": "stdout",
     "output_type": "stream",
     "text": [
      "Unable to find a usable engine; tried using: 'pyarrow', 'fastparquet'.\n",
      "A suitable version of pyarrow or fastparquet is required for parquet support.\n",
      "Trying to import the above resulted in these errors:\n",
      " - Missing optional dependency 'pyarrow'. pyarrow is required for parquet support. Use pip or conda to install pyarrow.\n",
      " - Missing optional dependency 'fastparquet'. fastparquet is required for parquet support. Use pip or conda to install fastparquet.\n"
     ]
    }
   ],
   "source": [
    "# Almacenando el avance del trabajo de tratamiento de los datos en un archivo como checkpoint\n",
    "try:\n",
    "    data.to_parquet('interconnect.parquet')\n",
    "except Exception as e:\n",
    "    print(e)"
   ]
  },
  {
   "cell_type": "markdown",
   "metadata": {},
   "source": [
    "### Recuperación de la informacion"
   ]
  },
  {
   "cell_type": "code",
   "execution_count": 371,
   "metadata": {},
   "outputs": [
    {
     "name": "stdout",
     "output_type": "stream",
     "text": [
      "Unable to find a usable engine; tried using: 'pyarrow', 'fastparquet'.\n",
      "A suitable version of pyarrow or fastparquet is required for parquet support.\n",
      "Trying to import the above resulted in these errors:\n",
      " - Missing optional dependency 'pyarrow'. pyarrow is required for parquet support. Use pip or conda to install pyarrow.\n",
      " - Missing optional dependency 'fastparquet'. fastparquet is required for parquet support. Use pip or conda to install fastparquet.\n"
     ]
    }
   ],
   "source": [
    "# Se recupera la informacion desde el archivo donde fue almacenado un checkpoint\n",
    "try:\n",
    "    data = pd.read_parquet('interconnect.parquet') \n",
    "except Exception as e:\n",
    "    print(e)"
   ]
  },
  {
   "cell_type": "markdown",
   "metadata": {},
   "source": [
    "## Segmentacion de datos"
   ]
  },
  {
   "cell_type": "markdown",
   "metadata": {},
   "source": [
    "### Separacion de features y target"
   ]
  },
  {
   "cell_type": "code",
   "execution_count": 372,
   "metadata": {},
   "outputs": [],
   "source": [
    "y = data['ceased_customer']\n",
    "X = data.drop('ceased_customer', axis=1)"
   ]
  },
  {
   "cell_type": "markdown",
   "metadata": {},
   "source": [
    "### Division de datos"
   ]
  },
  {
   "cell_type": "code",
   "execution_count": 373,
   "metadata": {},
   "outputs": [],
   "source": [
    "X_train, X_validation, y_train, y_validation = train_test_split(X, y, test_size=validation_size, random_state=10)"
   ]
  },
  {
   "cell_type": "markdown",
   "metadata": {},
   "source": [
    "<div class=\"alert alert-block alert-success\"> <b>Comentario del revisor</b> <a class=\"tocSkip\"></a><br> <b>Éxito</b> - La segmentación de datos y la separación de variables se realiza de forma ordenada, dejando listo el conjunto de entrenamiento y validación para el modelado.</div>\n"
   ]
  },
  {
   "cell_type": "markdown",
   "metadata": {},
   "source": [
    "## Selección y Evaluación de Modelos"
   ]
  },
  {
   "cell_type": "markdown",
   "metadata": {},
   "source": [
    "### Definicion de modelos"
   ]
  },
  {
   "cell_type": "code",
   "execution_count": 374,
   "metadata": {},
   "outputs": [],
   "source": [
    "# Define the models\n",
    "models = {\n",
    "    'DummyClassifier': DummyClassifier(random_state=54321),\n",
    "    'LogisticRegression': LogisticRegression(random_state=54321),\n",
    "    'DecisionTreeClassifier': DecisionTreeClassifier(random_state=54321),\n",
    "    'RandomForestClassifier': RandomForestClassifier(random_state=54321),\n",
    "    'LGBMClassifier': lgb.LGBMClassifier(objective='binary', random_state=54321),\n",
    "    'CatBoost': CatBoostClassifier(loss_function='Logloss', eval_metric='AUC', verbose=False, random_seed=54321)\n",
    "}\n",
    "\n",
    "# Define the grid parameters for each model\n",
    "grid_params = {\n",
    "    \"LogisticRegression\": {\n",
    "        \"solver\": [\"liblinear\", \"lbfgs\", \"newton-cg\"]  \n",
    "    },\n",
    "    \"DummyClassifier\":{\n",
    "        \"strategy\": ['most_frequent']\n",
    "    },\n",
    "    'DecisionTreeClassifier': {\n",
    "        'max_depth': [None, 10, 15, 20, 25, 30, 35, 40]\n",
    "    },\n",
    "    'RandomForestClassifier':{\n",
    "        'n_estimators': [20, 30, 40, 50, 60, 70, 80, 90, 100],\n",
    "        'class_weight': [None, 'balanced', 'balanced_subsample']\n",
    "    },\n",
    "    'LGBMClassifier': {\n",
    "        'num_leaves': [30, 40], #  np.arange(20, 50, 10),  # Número de hojas en un árbol\n",
    "        'learning_rate': [0.05],  # Tasa de aprendizaje\n",
    "        'n_estimators': [150, 160, 170], #np.arange(50, 200, 50), # Número de árboles de refuerzo\n",
    "        'max_depth': [-1, 5],  # Profundidad máxima del árbol (-1 significa sin límite)\n",
    "        #'reg_alpha': [0, 0.1, 0.5, 1], # Regularización L1\n",
    "        #'reg_lambda': [0, 0.1, 0.5, 1], # Regularización L2\n",
    "        #'colsample_bytree': [0.6, 0.7, 0.8, 0.9, 1.0], # Submuestreo de columnas al construir cada árbol\n",
    "        #'subsample': [0.6, 0.7, 0.8, 0.9, 1.0] # Submuestreo de datos al construir cada árbol\n",
    "    },\n",
    "    'CatBoost': {\n",
    "        'iterations': [100, 200],\n",
    "        'learning_rate': [0.05],\n",
    "        'depth': [4, 5, 6]\n",
    "    }\n",
    "}"
   ]
  },
  {
   "cell_type": "markdown",
   "metadata": {},
   "source": [
    "<div class=\"alert alert-block alert-success\"> <b>Comentario del revisor</b> <a class=\"tocSkip\"></a><br> <b>Éxito</b> - Buena definición del conjunto de modelos y configuración de grids, con atención al desbalance de clases para una evaluación rigurosa.</div>\n"
   ]
  },
  {
   "cell_type": "markdown",
   "metadata": {},
   "source": [
    "### Evaluando modelos"
   ]
  },
  {
   "cell_type": "markdown",
   "metadata": {},
   "source": [
    "#### Clase objetivo desbalanceada (Imbalanced)"
   ]
  },
  {
   "cell_type": "code",
   "execution_count": 375,
   "metadata": {},
   "outputs": [
    {
     "name": "stdout",
     "output_type": "stream",
     "text": [
      "Normalized Class Frequency:\n",
      "0    0.73192\n",
      "1    0.26808\n",
      "Name: ceased_customer, dtype: float64\n"
     ]
    },
    {
     "data": {
      "image/png": "[encoded data removed]",
      "text/plain": [
       "<Figure size 640x480 with 1 Axes>"
      ]
     },
     "metadata": {},
     "output_type": "display_data"
    }
   ],
   "source": [
    "displayClassFrequency(y_train)"
   ]
  },
  {
   "cell_type": "code",
   "execution_count": 376,
   "metadata": {},
   "outputs": [],
   "source": [
    "%%capture\n",
    "the_best_model_dictionary = selectBestModel(X_train, y_train, \"imbalanced\")"
   ]
  },
  {
   "cell_type": "code",
   "execution_count": 377,
   "metadata": {},
   "outputs": [
    {
     "name": "stdout",
     "output_type": "stream",
     "text": [
      "{'strategy_label': 'imbalanced', 'best_estimator': <catboost.core.CatBoostClassifier object at 0x7f6572b521c0>, 'best_score': 0.8510806735827036, 'best_params': {'depth': 4, 'iterations': 200, 'learning_rate': 0.05}}\n"
     ]
    }
   ],
   "source": [
    "print(the_best_model_dictionary)"
   ]
  },
  {
   "cell_type": "code",
   "execution_count": 378,
   "metadata": {},
   "outputs": [
    {
     "name": "stdout",
     "output_type": "stream",
     "text": [
      "Precision score: 0.6409574468085106\n",
      "Recall score:    0.5320088300220751\n",
      "F1 score:        0.5814234016887817\n",
      "ROC AUC Train score:   0.8722915954241087\n",
      "ROC AUC Test score:   0.8404646900378719\n"
     ]
    }
   ],
   "source": [
    "model = the_best_model_dictionary[\"best_estimator\"]\n",
    "probabilities_one_train = model.predict_proba(X_train)[:, 1]\n",
    "probabilities_one_valid = model.predict_proba(X_validation)[:, 1]\n",
    "predicted_valid = model.predict(X_validation)\n",
    "\n",
    "print(\"Precision score: {}\".format(precision_score(y_validation, predicted_valid)))\n",
    "print(\"Recall score:    {}\".format(recall_score(y_validation, predicted_valid)))\n",
    "print(\"F1 score:        {}\".format(f1_score(y_validation, predicted_valid)))\n",
    "print(\"ROC AUC Train score:   {}\".format(roc_auc_score(y_train, probabilities_one_train)))\n",
    "print(\"ROC AUC Test score:   {}\".format(roc_auc_score(y_validation, probabilities_one_valid)))"
   ]
  },
  {
   "cell_type": "code",
   "execution_count": 379,
   "metadata": {},
   "outputs": [
    {
     "name": "stdout",
     "output_type": "stream",
     "text": [
      "           train  test\n",
      "Exactitud    NaN   NaN\n",
      "F1          0.63  0.58\n",
      "APS         0.72  0.65\n",
      "ROC AUC     0.87  0.84\n"
     ]
    },
    {
     "data": {
      "image/png": "[encoded data removed]",
      "text/plain": [
       "<Figure size 2000x600 with 3 Axes>"
      ]
     },
     "metadata": {},
     "output_type": "display_data"
    }
   ],
   "source": [
    "evaluate_model(model, X_train, y_train, X_validation, y_validation)"
   ]
  },
  {
   "cell_type": "code",
   "execution_count": 380,
   "metadata": {},
   "outputs": [
    {
     "data": {
      "image/png": "[encoded data removed]",
      "text/plain": [
       "<Figure size 640x480 with 1 Axes>"
      ]
     },
     "metadata": {},
     "output_type": "display_data"
    }
   ],
   "source": [
    "fpr, tpr, thresholds = roc_curve(y_validation, probabilities_one_valid)\n",
    "\n",
    "plt.figure()\n",
    "plt.plot(fpr, tpr)\n",
    "plt.plot([0, 1], [0, 1], linestyle='--')\n",
    "plt.xlim([0.0, 1.0])\n",
    "plt.ylim([0.0, 1.0])\n",
    "plt.xlabel('False positive rate')\n",
    "plt.ylabel('True positive rate')\n",
    "plt.title('ROC Curve')\n",
    "plt.show()"
   ]
  },
  {
   "cell_type": "markdown",
   "metadata": {},
   "source": [
    "#### Balanceando clase objetivo (Oversampling)"
   ]
  },
  {
   "cell_type": "code",
   "execution_count": 381,
   "metadata": {},
   "outputs": [],
   "source": [
    "X_train_upsampled, y_train_upsampled = generate_oversamples(\n",
    "    X_train, y_train, 0\n",
    ")"
   ]
  },
  {
   "cell_type": "code",
   "execution_count": 382,
   "metadata": {},
   "outputs": [
    {
     "name": "stdout",
     "output_type": "stream",
     "text": [
      "Normalized Class Frequency:\n",
      "0    0.5\n",
      "1    0.5\n",
      "Name: ceased_customer, dtype: float64\n"
     ]
    },
    {
     "data": {
      "image/png": "[encoded data removed]",
      "text/plain": [
       "<Figure size 640x480 with 1 Axes>"
      ]
     },
     "metadata": {},
     "output_type": "display_data"
    }
   ],
   "source": [
    "displayClassFrequency(y_train_upsampled)"
   ]
  },
  {
   "cell_type": "code",
   "execution_count": 383,
   "metadata": {},
   "outputs": [],
   "source": [
    "%%capture\n",
    "the_best_model_dictionary = selectBestModel(X_train_upsampled, y_train_upsampled, \"oversampling\")"
   ]
  },
  {
   "cell_type": "code",
   "execution_count": 384,
   "metadata": {},
   "outputs": [
    {
     "name": "stdout",
     "output_type": "stream",
     "text": [
      "{'strategy_label': 'oversampling', 'best_estimator': RandomForestClassifier(class_weight='balanced', random_state=54321), 'best_score': 0.9625341417375466, 'best_params': {'class_weight': 'balanced', 'n_estimators': 100}}\n"
     ]
    }
   ],
   "source": [
    "print(the_best_model_dictionary)"
   ]
  },
  {
   "cell_type": "code",
   "execution_count": 385,
   "metadata": {},
   "outputs": [
    {
     "name": "stdout",
     "output_type": "stream",
     "text": [
      "Precision score: 0.5476190476190477\n",
      "Recall score:    0.609271523178808\n",
      "F1 score:        0.5768025078369906\n",
      "ROC AUC score:   0.8090954965537261\n"
     ]
    }
   ],
   "source": [
    "model = the_best_model_dictionary[\"best_estimator\"]\n",
    "probabilities_one_valid = model.predict_proba(X_validation)[:, 1]\n",
    "predicted_valid = model.predict(X_validation)\n",
    "\n",
    "print(\"Precision score: {}\".format(precision_score(y_validation, predicted_valid)))\n",
    "print(\"Recall score:    {}\".format(recall_score(y_validation, predicted_valid)))\n",
    "print(\"F1 score:        {}\".format(f1_score(y_validation, predicted_valid)))\n",
    "print(\"ROC AUC score:   {}\".format(roc_auc_score(y_validation, probabilities_one_valid)))"
   ]
  },
  {
   "cell_type": "code",
   "execution_count": 386,
   "metadata": {},
   "outputs": [
    {
     "name": "stdout",
     "output_type": "stream",
     "text": [
      "           train  test\n",
      "Exactitud    NaN   NaN\n",
      "F1           1.0  0.58\n",
      "APS          1.0  0.58\n",
      "ROC AUC      1.0  0.81\n"
     ]
    },
    {
     "data": {
      "image/png": "[encoded data removed]",
      "text/plain": [
       "<Figure size 2000x600 with 3 Axes>"
      ]
     },
     "metadata": {},
     "output_type": "display_data"
    }
   ],
   "source": [
    "evaluate_model(model, X_train_upsampled, y_train_upsampled, X_validation, y_validation)"
   ]
  },
  {
   "cell_type": "code",
   "execution_count": 387,
   "metadata": {},
   "outputs": [
    {
     "data": {
      "image/png": "[encoded data removed]",
      "text/plain": [
       "<Figure size 640x480 with 1 Axes>"
      ]
     },
     "metadata": {},
     "output_type": "display_data"
    }
   ],
   "source": [
    "fpr, tpr, thresholds = roc_curve(y_validation, probabilities_one_valid)\n",
    "\n",
    "plt.figure()\n",
    "plt.plot(fpr, tpr)\n",
    "plt.plot([0, 1], [0, 1], linestyle='--')\n",
    "plt.xlim([0.0, 1.0])\n",
    "plt.ylim([0.0, 1.0])\n",
    "plt.xlabel('False positive rate')\n",
    "plt.ylabel('True positive rate')\n",
    "plt.title('ROC Curve')\n",
    "plt.show()"
   ]
  },
  {
   "cell_type": "markdown",
   "metadata": {},
   "source": [
    "<div class=\"alert alert-block alert-success\"> <b>Comentario del revisor</b> <a class=\"tocSkip\"></a><br> <b>Éxito</b> - La evaluación de modelos incluye tanto escenarios con clases desbalanceadas como balanceadas, aplicando métricas clave y comparando estrategias de forma estructurada para seleccionar la opción más robusta.</div>\n"
   ]
  },
  {
   "cell_type": "markdown",
   "metadata": {},
   "source": [
    "## Conclusiones Generales"
   ]
  },
  {
   "cell_type": "markdown",
   "metadata": {},
   "source": [
    "Para el problema de Interconect se ha solicitado maximizar la metrica ROC-AUC. Es importante tener una buen desempeño con el modelo para tratar de predecir (incluso con la metrica de precision) cuando un cliente es suceptible a cancelar el servicio con la empresa, de esta forma se pueden tomar medidas de retención de clientes y con ello reduccion de costos a largo plazo.\n",
    "\n",
    "Este problema requirió un gran desarrollo en los diferentes aspectos para mejorar el desempeño de modelos. A continuación se describen las acciones que se llevaron a cabo durante el proceso siguiendo con el plan a partir de un primer EDA.\n",
    "\n",
    "- Tratamiento de los datos (preprocesamiento). Se consideró la mejor calidad posible para los datos y llevandolos a una estandarizacion para la adecuada convivencia con los diferentes algoritmos disponibles.\n",
    "- Se utilizó la tectnica de wrapping (RFE) para descartar o mantener caracteristicas, esto se hizo en varias iteraciones (combinaciones) lo que indicó que se tenia mayor beneficio para la metrica manteniendo la mayoria de las caracteristicas (basado en el umbral del coeficiente de correlacion).\n",
    "- Balanceo de clase objetivo. Se optó por utilizar oversampling preservando los datos y aumentando las muestras de la clase minoritaria. Dentro de esto mismo se realizaron pruebas equilibrando pruebas o solo aumentando la clase minoritaria.\n",
    "- Se probó tambien ajustando el tamaño del set de datos para validacion (35%-25%)\n",
    "- En la evaluacion de modelos se incluyeron los siguientes algoritmos: RandomForest, LGBMClassifier, CatBoost y Regresión Logística, usando ROC-AUC como métrica. Se consideró CatBoost en el conjunto de algoritmos evaluados debido a que es de los que manejan bien el desbalance de clases y las características categóricas.\n",
    "- Dentro de las pruebas se incluyó igualmente el ajuste de hiperparametros tratando de mediar entre el mejor resultado y la optimizacion del modelo debido al poder de computo y tiempo requeridos.\n",
    "\n",
    "Como seleccion final de los modelos se encontro el siguiente bajo los datos desbalanceados (datos originales) y que arrojó un mejor equilibrio entre los datos de entrenamiento y de prueba:\n",
    "- 'best_estimator': catboost.core.CatBoostClassifier\n",
    "- ROC AUC Train score:   0.8722915954241087\n",
    "- ROC AUC Test score:   0.8404646900378719\n",
    "- 'best_params': {'depth': 4, 'iterations': 200, 'learning_rate': 0.05}\n",
    "\n",
    "Finalmente, puedo decir que fue un reto el explorar todas las aristas posibles para lograr el mejor rendimiento del modelo seleccionado."
   ]
  },
  {
   "cell_type": "markdown",
   "metadata": {},
   "source": [
    "<div class=\"alert alert-block alert-success\"> <b>Comentario del revisor</b> <a class=\"tocSkip\"></a><br> <b>Éxito</b> - Conclusión bien estructurada que resume el flujo completo del proyecto, destacando las decisiones clave y respaldando la elección final del modelo con métricas sólidas.</div>\n"
   ]
  },
  {
   "cell_type": "markdown",
   "metadata": {},
   "source": [
    "## Comentario General del Revisor\n",
    "\n",
    "<div class=\"alert alert-block alert-success\"> <b>Comentario del revisor</b> <a class=\"tocSkip\"></a>  \n",
    "    \n",
    "¡Felicidades! Tu proyecto está **aprobado**. Has desarrollado un flujo de trabajo completo y bien fundamentado que demuestra un dominio sólido en el tratamiento de datos, la exploración inicial, la preparación para el modelado y la evaluación de múltiples algoritmos.  \n",
    "\n",
    "#### Puntos Positivos:\n",
    "\n",
    "* **Procesamiento de datos:** Realizaste una limpieza exhaustiva, uniendo y transformando datasets de distintas fuentes con codificación consistente, control de valores nulos y creación precisa de la variable objetivo.\n",
    "* **Análisis exploratorio:** Tu EDA fue minucioso, identificando patrones relevantes y variables clave, además de detectar y tratar valores atípicos o inconsistencias.\n",
    "* **Ingeniería de características:** Lograste codificar adecuadamente variables categóricas y estandarizar las numéricas, dejando la matriz de datos lista para un desempeño óptimo de los modelos.\n",
    "* **Estrategias para el desbalance de clases:** Implementaste tanto escenarios con datos originales como oversampling, comparando impactos y eligiendo la estrategia más coherente con el objetivo.\n",
    "* **Evaluación de modelos:** Probaste múltiples algoritmos (RandomForest, LGBM, CatBoost, Regresión Logística, entre otros), afinaste hiperparámetros y seleccionaste el modelo con mejor equilibrio entre métricas y generalización, priorizando ROC-AUC.\n",
    "* **Documentación y conclusiones:** El cierre del proyecto explica claramente las decisiones técnicas, el porqué de la elección final y cómo los resultados se alinean con los objetivos de negocio.\n",
    "\n",
    "Has conseguido un pipeline robusto y replicable, con resultados consistentes tanto en entrenamiento como en validación, y un análisis que respalda cada decisión tomada. Este trabajo refleja un criterio analítico y técnico muy bien desarrollado. </div>\n"
   ]
  },
  {
   "cell_type": "markdown",
   "metadata": {},
   "source": [
    "## Informe final del proyecto"
   ]
  },
  {
   "cell_type": "markdown",
   "metadata": {},
   "source": [
    "### ¿Qué pasos del plan se realizaron y qué pasos se omitieron (explica por qué)?"
   ]
  },
  {
   "cell_type": "markdown",
   "metadata": {},
   "source": [
    "- Se ejecutaron todos los pasos estipulados en el plan\n",
    "- En cambio, se agregaron algunos apartados a dicho plan para mejorar la organizacion del workbook así como puntos en donde el analisis nos forzó a realizar medidas adicionales como la seccion de funciones/el manejo del checkpoint/manejo de seleccion de caracteristicas para mejorar el desempeño del modelo"
   ]
  },
  {
   "cell_type": "markdown",
   "metadata": {},
   "source": [
    "### ¿Qué dificultades encontraste y cómo lograste resolverlas?"
   ]
  },
  {
   "cell_type": "markdown",
   "metadata": {},
   "source": [
    "- Se implementaron los modelos basicos para un problema de clasificacion, sin embargo, no se conseguia el mejor rendimiento del modelo de acuerdo a la solicitud de negocio."
   ]
  },
  {
   "cell_type": "markdown",
   "metadata": {},
   "source": [
    "### ¿Cuáles fueron algunos de los pasos clave para resolver la tarea?"
   ]
  },
  {
   "cell_type": "markdown",
   "metadata": {},
   "source": [
    "- Se definieron algoritmos adicionales para generar el modelo.\n",
    "- Se estuvo trabajando en la seleccion de caracteristicas, proporciones en la division de los datos y el manejo de hiperparametros.\n",
    "- Manejo y/o revision del balanceo de la clase objetivo."
   ]
  },
  {
   "cell_type": "markdown",
   "metadata": {},
   "source": [
    "### ¿Cuál es tu modelo final y qué nivel de calidad tiene?"
   ]
  },
  {
   "cell_type": "markdown",
   "metadata": {},
   "source": [
    "- ROC AUC Train score:   0.8722915954241087\n",
    "- ROC AUC Test score:   0.8404646900378719"
   ]
  },
  {
   "cell_type": "markdown",
   "metadata": {},
   "source": []
  },
  {
   "cell_type": "code",
   "execution_count": null,
   "metadata": {},
   "outputs": [],
   "source": []
  }
 ],
 "metadata": {
  "kernelspec": {
   "display_name": "Python 3 (ipykernel)",
   "language": "python",
   "name": "python3"
  },
  "language_info": {
   "codemirror_mode": {
    "name": "ipython",
    "version": 3
   },
   "file_extension": ".py",
   "mimetype": "text/x-python",
   "name": "python",
   "nbconvert_exporter": "python",
   "pygments_lexer": "ipython3",
   "version": "3.9.23"
  }
 },
 "nbformat": 4,
 "nbformat_minor": 4
}
